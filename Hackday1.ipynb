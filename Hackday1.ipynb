{
 "cells": [
  {
   "cell_type": "code",
   "execution_count": 1,
   "metadata": {
    "collapsed": true
   },
   "outputs": [],
   "source": [
    "import pandas as pd"
   ]
  },
  {
   "cell_type": "code",
   "execution_count": 2,
   "metadata": {
    "collapsed": true
   },
   "outputs": [],
   "source": [
    "df = pd.read_csv(\"diggedata.csv\", sep=\";\")"
   ]
  },
  {
   "cell_type": "code",
   "execution_count": 3,
   "metadata": {},
   "outputs": [
    {
     "data": {
      "text/html": [
       "<div>\n",
       "<style>\n",
       "    .dataframe thead tr:only-child th {\n",
       "        text-align: right;\n",
       "    }\n",
       "\n",
       "    .dataframe thead th {\n",
       "        text-align: left;\n",
       "    }\n",
       "\n",
       "    .dataframe tbody tr th {\n",
       "        vertical-align: top;\n",
       "    }\n",
       "</style>\n",
       "<table border=\"1\" class=\"dataframe\">\n",
       "  <thead>\n",
       "    <tr style=\"text-align: right;\">\n",
       "      <th></th>\n",
       "      <th>Dag-blindern</th>\n",
       "      <th>TA-blindern-01</th>\n",
       "      <th>TA-blindern-07</th>\n",
       "      <th>TA-blindern-13</th>\n",
       "      <th>TA-blindern-19</th>\n",
       "      <th>TAM-blindern</th>\n",
       "      <th>TAX-blindern</th>\n",
       "      <th>TAN-blindern</th>\n",
       "      <th>Dag-hemsedal</th>\n",
       "      <th>TA-hemsedal-01</th>\n",
       "      <th>TA-hemsedal-07</th>\n",
       "      <th>TA-hemsedal-13</th>\n",
       "      <th>TA-hemsedal-19</th>\n",
       "      <th>TAM-hemsedal</th>\n",
       "      <th>TAX-hemsedal</th>\n",
       "      <th>TAN-hemsedal</th>\n",
       "    </tr>\n",
       "  </thead>\n",
       "  <tbody>\n",
       "    <tr>\n",
       "      <th>count</th>\n",
       "      <td>485.000000</td>\n",
       "      <td>472.000000</td>\n",
       "      <td>472.000000</td>\n",
       "      <td>471.000000</td>\n",
       "      <td>471.000000</td>\n",
       "      <td>471.000000</td>\n",
       "      <td>472.000000</td>\n",
       "      <td>472.000000</td>\n",
       "      <td>485.000000</td>\n",
       "      <td>472.000000</td>\n",
       "      <td>472.000000</td>\n",
       "      <td>472.000000</td>\n",
       "      <td>471.000000</td>\n",
       "      <td>471.000000</td>\n",
       "      <td>472.000000</td>\n",
       "      <td>472.000000</td>\n",
       "    </tr>\n",
       "    <tr>\n",
       "      <th>mean</th>\n",
       "      <td>15.672165</td>\n",
       "      <td>3.660169</td>\n",
       "      <td>3.588559</td>\n",
       "      <td>7.288535</td>\n",
       "      <td>5.883652</td>\n",
       "      <td>5.057962</td>\n",
       "      <td>8.731144</td>\n",
       "      <td>1.930508</td>\n",
       "      <td>15.672165</td>\n",
       "      <td>-1.458686</td>\n",
       "      <td>-1.438136</td>\n",
       "      <td>3.951483</td>\n",
       "      <td>1.361359</td>\n",
       "      <td>0.594268</td>\n",
       "      <td>6.015042</td>\n",
       "      <td>-4.379237</td>\n",
       "    </tr>\n",
       "    <tr>\n",
       "      <th>std</th>\n",
       "      <td>8.781422</td>\n",
       "      <td>6.995800</td>\n",
       "      <td>7.623839</td>\n",
       "      <td>8.338013</td>\n",
       "      <td>8.154477</td>\n",
       "      <td>7.557607</td>\n",
       "      <td>8.495188</td>\n",
       "      <td>7.185117</td>\n",
       "      <td>8.781422</td>\n",
       "      <td>8.506908</td>\n",
       "      <td>9.722637</td>\n",
       "      <td>9.268498</td>\n",
       "      <td>9.340591</td>\n",
       "      <td>8.713073</td>\n",
       "      <td>8.783826</td>\n",
       "      <td>9.660581</td>\n",
       "    </tr>\n",
       "    <tr>\n",
       "      <th>min</th>\n",
       "      <td>1.000000</td>\n",
       "      <td>-13.100000</td>\n",
       "      <td>-15.400000</td>\n",
       "      <td>-9.600000</td>\n",
       "      <td>-11.700000</td>\n",
       "      <td>-11.400000</td>\n",
       "      <td>-9.100000</td>\n",
       "      <td>-15.900000</td>\n",
       "      <td>1.000000</td>\n",
       "      <td>-28.800000</td>\n",
       "      <td>-32.600000</td>\n",
       "      <td>-23.000000</td>\n",
       "      <td>-25.600000</td>\n",
       "      <td>-24.600000</td>\n",
       "      <td>-14.100000</td>\n",
       "      <td>-33.500000</td>\n",
       "    </tr>\n",
       "    <tr>\n",
       "      <th>25%</th>\n",
       "      <td>8.000000</td>\n",
       "      <td>-1.600000</td>\n",
       "      <td>-2.000000</td>\n",
       "      <td>0.200000</td>\n",
       "      <td>-0.700000</td>\n",
       "      <td>-0.950000</td>\n",
       "      <td>1.000000</td>\n",
       "      <td>-3.125000</td>\n",
       "      <td>8.000000</td>\n",
       "      <td>-6.350000</td>\n",
       "      <td>-7.300000</td>\n",
       "      <td>-2.800000</td>\n",
       "      <td>-4.850000</td>\n",
       "      <td>-5.800000</td>\n",
       "      <td>-0.625000</td>\n",
       "      <td>-10.600000</td>\n",
       "    </tr>\n",
       "    <tr>\n",
       "      <th>50%</th>\n",
       "      <td>16.000000</td>\n",
       "      <td>2.150000</td>\n",
       "      <td>2.000000</td>\n",
       "      <td>5.500000</td>\n",
       "      <td>4.100000</td>\n",
       "      <td>3.300000</td>\n",
       "      <td>7.200000</td>\n",
       "      <td>0.600000</td>\n",
       "      <td>16.000000</td>\n",
       "      <td>-0.900000</td>\n",
       "      <td>-0.450000</td>\n",
       "      <td>3.500000</td>\n",
       "      <td>1.000000</td>\n",
       "      <td>0.600000</td>\n",
       "      <td>5.000000</td>\n",
       "      <td>-3.400000</td>\n",
       "    </tr>\n",
       "    <tr>\n",
       "      <th>75%</th>\n",
       "      <td>23.000000</td>\n",
       "      <td>10.625000</td>\n",
       "      <td>10.900000</td>\n",
       "      <td>14.800000</td>\n",
       "      <td>13.250000</td>\n",
       "      <td>12.400000</td>\n",
       "      <td>16.425000</td>\n",
       "      <td>9.100000</td>\n",
       "      <td>23.000000</td>\n",
       "      <td>5.800000</td>\n",
       "      <td>6.525000</td>\n",
       "      <td>11.400000</td>\n",
       "      <td>9.550000</td>\n",
       "      <td>8.500000</td>\n",
       "      <td>13.300000</td>\n",
       "      <td>3.325000</td>\n",
       "    </tr>\n",
       "    <tr>\n",
       "      <th>max</th>\n",
       "      <td>31.000000</td>\n",
       "      <td>17.900000</td>\n",
       "      <td>19.500000</td>\n",
       "      <td>26.200000</td>\n",
       "      <td>23.900000</td>\n",
       "      <td>20.400000</td>\n",
       "      <td>27.300000</td>\n",
       "      <td>15.700000</td>\n",
       "      <td>31.000000</td>\n",
       "      <td>14.200000</td>\n",
       "      <td>15.700000</td>\n",
       "      <td>23.300000</td>\n",
       "      <td>21.600000</td>\n",
       "      <td>15.600000</td>\n",
       "      <td>24.800000</td>\n",
       "      <td>11.400000</td>\n",
       "    </tr>\n",
       "  </tbody>\n",
       "</table>\n",
       "</div>"
      ],
      "text/plain": [
       "       Dag-blindern  TA-blindern-01  TA-blindern-07  TA-blindern-13  \\\n",
       "count    485.000000      472.000000      472.000000      471.000000   \n",
       "mean      15.672165        3.660169        3.588559        7.288535   \n",
       "std        8.781422        6.995800        7.623839        8.338013   \n",
       "min        1.000000      -13.100000      -15.400000       -9.600000   \n",
       "25%        8.000000       -1.600000       -2.000000        0.200000   \n",
       "50%       16.000000        2.150000        2.000000        5.500000   \n",
       "75%       23.000000       10.625000       10.900000       14.800000   \n",
       "max       31.000000       17.900000       19.500000       26.200000   \n",
       "\n",
       "       TA-blindern-19  TAM-blindern  TAX-blindern  TAN-blindern  Dag-hemsedal  \\\n",
       "count      471.000000    471.000000    472.000000    472.000000    485.000000   \n",
       "mean         5.883652      5.057962      8.731144      1.930508     15.672165   \n",
       "std          8.154477      7.557607      8.495188      7.185117      8.781422   \n",
       "min        -11.700000    -11.400000     -9.100000    -15.900000      1.000000   \n",
       "25%         -0.700000     -0.950000      1.000000     -3.125000      8.000000   \n",
       "50%          4.100000      3.300000      7.200000      0.600000     16.000000   \n",
       "75%         13.250000     12.400000     16.425000      9.100000     23.000000   \n",
       "max         23.900000     20.400000     27.300000     15.700000     31.000000   \n",
       "\n",
       "       TA-hemsedal-01  TA-hemsedal-07  TA-hemsedal-13  TA-hemsedal-19  \\\n",
       "count      472.000000      472.000000      472.000000      471.000000   \n",
       "mean        -1.458686       -1.438136        3.951483        1.361359   \n",
       "std          8.506908        9.722637        9.268498        9.340591   \n",
       "min        -28.800000      -32.600000      -23.000000      -25.600000   \n",
       "25%         -6.350000       -7.300000       -2.800000       -4.850000   \n",
       "50%         -0.900000       -0.450000        3.500000        1.000000   \n",
       "75%          5.800000        6.525000       11.400000        9.550000   \n",
       "max         14.200000       15.700000       23.300000       21.600000   \n",
       "\n",
       "       TAM-hemsedal  TAX-hemsedal  TAN-hemsedal  \n",
       "count    471.000000    472.000000    472.000000  \n",
       "mean       0.594268      6.015042     -4.379237  \n",
       "std        8.713073      8.783826      9.660581  \n",
       "min      -24.600000    -14.100000    -33.500000  \n",
       "25%       -5.800000     -0.625000    -10.600000  \n",
       "50%        0.600000      5.000000     -3.400000  \n",
       "75%        8.500000     13.300000      3.325000  \n",
       "max       15.600000     24.800000     11.400000  "
      ]
     },
     "execution_count": 3,
     "metadata": {},
     "output_type": "execute_result"
    }
   ],
   "source": [
    "df.describe()"
   ]
  },
  {
   "cell_type": "code",
   "execution_count": 4,
   "metadata": {
    "collapsed": true
   },
   "outputs": [],
   "source": [
    "df = df.drop(['TAM-hemsedal','TAX-hemsedal','TAN-hemsedal'],axis=1)"
   ]
  },
  {
   "cell_type": "code",
   "execution_count": 5,
   "metadata": {},
   "outputs": [
    {
     "data": {
      "text/html": [
       "<div>\n",
       "<style>\n",
       "    .dataframe thead tr:only-child th {\n",
       "        text-align: right;\n",
       "    }\n",
       "\n",
       "    .dataframe thead th {\n",
       "        text-align: left;\n",
       "    }\n",
       "\n",
       "    .dataframe tbody tr th {\n",
       "        vertical-align: top;\n",
       "    }\n",
       "</style>\n",
       "<table border=\"1\" class=\"dataframe\">\n",
       "  <thead>\n",
       "    <tr style=\"text-align: right;\">\n",
       "      <th></th>\n",
       "      <th>count</th>\n",
       "      <th>mean</th>\n",
       "      <th>std</th>\n",
       "      <th>min</th>\n",
       "      <th>25%</th>\n",
       "      <th>50%</th>\n",
       "      <th>75%</th>\n",
       "      <th>max</th>\n",
       "    </tr>\n",
       "  </thead>\n",
       "  <tbody>\n",
       "    <tr>\n",
       "      <th>Dag-blindern</th>\n",
       "      <td>485.0</td>\n",
       "      <td>15.672165</td>\n",
       "      <td>8.781422</td>\n",
       "      <td>1.0</td>\n",
       "      <td>8.000</td>\n",
       "      <td>16.00</td>\n",
       "      <td>23.000</td>\n",
       "      <td>31.0</td>\n",
       "    </tr>\n",
       "    <tr>\n",
       "      <th>TA-blindern-01</th>\n",
       "      <td>472.0</td>\n",
       "      <td>3.660169</td>\n",
       "      <td>6.995800</td>\n",
       "      <td>-13.1</td>\n",
       "      <td>-1.600</td>\n",
       "      <td>2.15</td>\n",
       "      <td>10.625</td>\n",
       "      <td>17.9</td>\n",
       "    </tr>\n",
       "    <tr>\n",
       "      <th>TA-blindern-07</th>\n",
       "      <td>472.0</td>\n",
       "      <td>3.588559</td>\n",
       "      <td>7.623839</td>\n",
       "      <td>-15.4</td>\n",
       "      <td>-2.000</td>\n",
       "      <td>2.00</td>\n",
       "      <td>10.900</td>\n",
       "      <td>19.5</td>\n",
       "    </tr>\n",
       "    <tr>\n",
       "      <th>TA-blindern-13</th>\n",
       "      <td>471.0</td>\n",
       "      <td>7.288535</td>\n",
       "      <td>8.338013</td>\n",
       "      <td>-9.6</td>\n",
       "      <td>0.200</td>\n",
       "      <td>5.50</td>\n",
       "      <td>14.800</td>\n",
       "      <td>26.2</td>\n",
       "    </tr>\n",
       "    <tr>\n",
       "      <th>TA-blindern-19</th>\n",
       "      <td>471.0</td>\n",
       "      <td>5.883652</td>\n",
       "      <td>8.154477</td>\n",
       "      <td>-11.7</td>\n",
       "      <td>-0.700</td>\n",
       "      <td>4.10</td>\n",
       "      <td>13.250</td>\n",
       "      <td>23.9</td>\n",
       "    </tr>\n",
       "    <tr>\n",
       "      <th>TAM-blindern</th>\n",
       "      <td>471.0</td>\n",
       "      <td>5.057962</td>\n",
       "      <td>7.557607</td>\n",
       "      <td>-11.4</td>\n",
       "      <td>-0.950</td>\n",
       "      <td>3.30</td>\n",
       "      <td>12.400</td>\n",
       "      <td>20.4</td>\n",
       "    </tr>\n",
       "    <tr>\n",
       "      <th>TAX-blindern</th>\n",
       "      <td>472.0</td>\n",
       "      <td>8.731144</td>\n",
       "      <td>8.495188</td>\n",
       "      <td>-9.1</td>\n",
       "      <td>1.000</td>\n",
       "      <td>7.20</td>\n",
       "      <td>16.425</td>\n",
       "      <td>27.3</td>\n",
       "    </tr>\n",
       "    <tr>\n",
       "      <th>TAN-blindern</th>\n",
       "      <td>472.0</td>\n",
       "      <td>1.930508</td>\n",
       "      <td>7.185117</td>\n",
       "      <td>-15.9</td>\n",
       "      <td>-3.125</td>\n",
       "      <td>0.60</td>\n",
       "      <td>9.100</td>\n",
       "      <td>15.7</td>\n",
       "    </tr>\n",
       "    <tr>\n",
       "      <th>Dag-hemsedal</th>\n",
       "      <td>485.0</td>\n",
       "      <td>15.672165</td>\n",
       "      <td>8.781422</td>\n",
       "      <td>1.0</td>\n",
       "      <td>8.000</td>\n",
       "      <td>16.00</td>\n",
       "      <td>23.000</td>\n",
       "      <td>31.0</td>\n",
       "    </tr>\n",
       "    <tr>\n",
       "      <th>TA-hemsedal-01</th>\n",
       "      <td>472.0</td>\n",
       "      <td>-1.458686</td>\n",
       "      <td>8.506908</td>\n",
       "      <td>-28.8</td>\n",
       "      <td>-6.350</td>\n",
       "      <td>-0.90</td>\n",
       "      <td>5.800</td>\n",
       "      <td>14.2</td>\n",
       "    </tr>\n",
       "    <tr>\n",
       "      <th>TA-hemsedal-07</th>\n",
       "      <td>472.0</td>\n",
       "      <td>-1.438136</td>\n",
       "      <td>9.722637</td>\n",
       "      <td>-32.6</td>\n",
       "      <td>-7.300</td>\n",
       "      <td>-0.45</td>\n",
       "      <td>6.525</td>\n",
       "      <td>15.7</td>\n",
       "    </tr>\n",
       "    <tr>\n",
       "      <th>TA-hemsedal-13</th>\n",
       "      <td>472.0</td>\n",
       "      <td>3.951483</td>\n",
       "      <td>9.268498</td>\n",
       "      <td>-23.0</td>\n",
       "      <td>-2.800</td>\n",
       "      <td>3.50</td>\n",
       "      <td>11.400</td>\n",
       "      <td>23.3</td>\n",
       "    </tr>\n",
       "    <tr>\n",
       "      <th>TA-hemsedal-19</th>\n",
       "      <td>471.0</td>\n",
       "      <td>1.361359</td>\n",
       "      <td>9.340591</td>\n",
       "      <td>-25.6</td>\n",
       "      <td>-4.850</td>\n",
       "      <td>1.00</td>\n",
       "      <td>9.550</td>\n",
       "      <td>21.6</td>\n",
       "    </tr>\n",
       "  </tbody>\n",
       "</table>\n",
       "</div>"
      ],
      "text/plain": [
       "                count       mean       std   min    25%    50%     75%   max\n",
       "Dag-blindern    485.0  15.672165  8.781422   1.0  8.000  16.00  23.000  31.0\n",
       "TA-blindern-01  472.0   3.660169  6.995800 -13.1 -1.600   2.15  10.625  17.9\n",
       "TA-blindern-07  472.0   3.588559  7.623839 -15.4 -2.000   2.00  10.900  19.5\n",
       "TA-blindern-13  471.0   7.288535  8.338013  -9.6  0.200   5.50  14.800  26.2\n",
       "TA-blindern-19  471.0   5.883652  8.154477 -11.7 -0.700   4.10  13.250  23.9\n",
       "TAM-blindern    471.0   5.057962  7.557607 -11.4 -0.950   3.30  12.400  20.4\n",
       "TAX-blindern    472.0   8.731144  8.495188  -9.1  1.000   7.20  16.425  27.3\n",
       "TAN-blindern    472.0   1.930508  7.185117 -15.9 -3.125   0.60   9.100  15.7\n",
       "Dag-hemsedal    485.0  15.672165  8.781422   1.0  8.000  16.00  23.000  31.0\n",
       "TA-hemsedal-01  472.0  -1.458686  8.506908 -28.8 -6.350  -0.90   5.800  14.2\n",
       "TA-hemsedal-07  472.0  -1.438136  9.722637 -32.6 -7.300  -0.45   6.525  15.7\n",
       "TA-hemsedal-13  472.0   3.951483  9.268498 -23.0 -2.800   3.50  11.400  23.3\n",
       "TA-hemsedal-19  471.0   1.361359  9.340591 -25.6 -4.850   1.00   9.550  21.6"
      ]
     },
     "execution_count": 5,
     "metadata": {},
     "output_type": "execute_result"
    }
   ],
   "source": [
    "df.describe().transpose()"
   ]
  },
  {
   "cell_type": "code",
   "execution_count": 6,
   "metadata": {
    "collapsed": true
   },
   "outputs": [],
   "source": [
    "df = df.dropna()"
   ]
  },
  {
   "cell_type": "code",
   "execution_count": 7,
   "metadata": {
    "collapsed": true
   },
   "outputs": [],
   "source": [
    "x_data = df.drop(['TA-hemsedal-13'],axis=1)"
   ]
  },
  {
   "cell_type": "code",
   "execution_count": 8,
   "metadata": {
    "collapsed": true
   },
   "outputs": [],
   "source": [
    "y_val = df['TA-hemsedal-13']"
   ]
  },
  {
   "cell_type": "code",
   "execution_count": 9,
   "metadata": {
    "collapsed": true
   },
   "outputs": [],
   "source": [
    "from sklearn.model_selection import train_test_split"
   ]
  },
  {
   "cell_type": "code",
   "execution_count": 10,
   "metadata": {
    "collapsed": true
   },
   "outputs": [],
   "source": [
    "X_train, X_test, y_train, y_test = train_test_split(x_data,y_val,test_size=0.3,random_state=101)"
   ]
  },
  {
   "cell_type": "code",
   "execution_count": 11,
   "metadata": {
    "collapsed": true
   },
   "outputs": [],
   "source": [
    "from sklearn.preprocessing import MinMaxScaler"
   ]
  },
  {
   "cell_type": "code",
   "execution_count": 12,
   "metadata": {
    "collapsed": true
   },
   "outputs": [],
   "source": [
    "scaler = MinMaxScaler()"
   ]
  },
  {
   "cell_type": "code",
   "execution_count": 13,
   "metadata": {},
   "outputs": [
    {
     "data": {
      "text/plain": [
       "MinMaxScaler(copy=True, feature_range=(0, 1))"
      ]
     },
     "execution_count": 13,
     "metadata": {},
     "output_type": "execute_result"
    }
   ],
   "source": [
    "scaler.fit(X_train)"
   ]
  },
  {
   "cell_type": "code",
   "execution_count": 14,
   "metadata": {
    "collapsed": true
   },
   "outputs": [],
   "source": [
    "X_train = pd.DataFrame(data=scaler.transform(X_train),columns = X_train.columns,index=X_train.index)"
   ]
  },
  {
   "cell_type": "code",
   "execution_count": 15,
   "metadata": {
    "collapsed": true
   },
   "outputs": [],
   "source": [
    "X_test = pd.DataFrame(data=scaler.transform(X_test),columns = X_test.columns,index=X_test.index)"
   ]
  },
  {
   "cell_type": "code",
   "execution_count": 16,
   "metadata": {},
   "outputs": [
    {
     "data": {
      "text/plain": [
       "Index(['Dag-blindern', 'TA-blindern-01', 'TA-blindern-07', 'TA-blindern-13',\n",
       "       'TA-blindern-19', 'TAM-blindern', 'TAX-blindern', 'TAN-blindern',\n",
       "       'Dag-hemsedal', 'TA-hemsedal-01', 'TA-hemsedal-07', 'TA-hemsedal-13',\n",
       "       'TA-hemsedal-19'],\n",
       "      dtype='object')"
      ]
     },
     "execution_count": 16,
     "metadata": {},
     "output_type": "execute_result"
    }
   ],
   "source": [
    "df.columns"
   ]
  },
  {
   "cell_type": "code",
   "execution_count": 17,
   "metadata": {
    "collapsed": true
   },
   "outputs": [],
   "source": [
    "import tensorflow as tf"
   ]
  },
  {
   "cell_type": "code",
   "execution_count": 18,
   "metadata": {
    "collapsed": true
   },
   "outputs": [],
   "source": [
    "Dagblindern = tf.feature_column.numeric_column('Dag-blindern')\n",
    "TAblindern1 = tf.feature_column.numeric_column('TA-blindern-01')\n",
    "TAblindern7 = tf.feature_column.numeric_column('TA-blindern-07')\n",
    "TAblindern13 = tf.feature_column.numeric_column('TA-blindern-13')\n",
    "TAblindern19 = tf.feature_column.numeric_column('TA-blindern-19')\n",
    "TAMblindern = tf.feature_column.numeric_column('TAM-blindern')\n",
    "TAXblindern = tf.feature_column.numeric_column('TAX-blindern')\n",
    "TANblindern = tf.feature_column.numeric_column('TAN-blindern')\n",
    "Daghemsedal = tf.feature_column.numeric_column('Dag-hemsedal')\n",
    "TAhemsedal1 = tf.feature_column.numeric_column('TA-hemsedal-01')\n",
    "TAhemsedal7 = tf.feature_column.numeric_column('TA-hemsedal-07')\n",
    "TAhemsedal13 = tf.feature_column.numeric_column('TA-hemsedal-13')\n",
    "TAhemsedal19 = tf.feature_column.numeric_column('TA-hemsedal-19')"
   ]
  },
  {
   "cell_type": "code",
   "execution_count": 19,
   "metadata": {
    "collapsed": true
   },
   "outputs": [],
   "source": [
    "feat_cols1 = [Dagblindern,TAblindern1,TAblindern7,TAblindern13,TAblindern19,TAMblindern,TAXblindern,TANblindern,Daghemsedal,TAhemsedal1,TAhemsedal7,TAhemsedal19]\n",
    "feat_cols2 = [Dagblindern,TAblindern1,TAblindern7,TAblindern13,Daghemsedal,TAhemsedal1,TAhemsedal7]\n",
    "feat_cols = [Dagblindern,TAblindern1,TAblindern7,TAblindern13,Daghemsedal,TAhemsedal1,TAhemsedal7]\n",
    "\n"
   ]
  },
  {
   "cell_type": "code",
   "execution_count": 20,
   "metadata": {
    "collapsed": true
   },
   "outputs": [],
   "source": [
    "input_func = tf.estimator.inputs.pandas_input_fn(x=X_train,y=y_train,batch_size=5,num_epochs=10000,shuffle=True)"
   ]
  },
  {
   "cell_type": "code",
   "execution_count": 21,
   "metadata": {},
   "outputs": [
    {
     "name": "stdout",
     "output_type": "stream",
     "text": [
      "INFO:tensorflow:Using default config.\n",
      "WARNING:tensorflow:Using temporary folder as model directory: /var/folders/fx/lb1_syp12qgfwfyn206tc831vpdc5b/T/tmpepbj88th\n",
      "INFO:tensorflow:Using config: {'_model_dir': '/var/folders/fx/lb1_syp12qgfwfyn206tc831vpdc5b/T/tmpepbj88th', '_keep_checkpoint_every_n_hours': 10000, '_log_step_count_steps': 100, '_save_checkpoints_steps': None, '_save_summary_steps': 100, '_session_config': None, '_save_checkpoints_secs': 600, '_keep_checkpoint_max': 5, '_tf_random_seed': 1}\n"
     ]
    }
   ],
   "source": [
    "model = tf.estimator.DNNRegressor(hidden_units=[17,17,17],feature_columns=feat_cols)"
   ]
  },
  {
   "cell_type": "code",
   "execution_count": 29,
   "metadata": {},
   "outputs": [
    {
     "name": "stdout",
     "output_type": "stream",
     "text": [
      "INFO:tensorflow:Create CheckpointSaverHook.\n",
      "INFO:tensorflow:Restoring parameters from /var/folders/fx/lb1_syp12qgfwfyn206tc831vpdc5b/T/tmpepbj88th/model.ckpt-10000\n",
      "INFO:tensorflow:Saving checkpoints for 10001 into /var/folders/fx/lb1_syp12qgfwfyn206tc831vpdc5b/T/tmpepbj88th/model.ckpt.\n",
      "INFO:tensorflow:step = 10001, loss = 75.6173\n",
      "INFO:tensorflow:global_step/sec: 508.373\n",
      "INFO:tensorflow:step = 10101, loss = 13.1637 (0.198 sec)\n",
      "INFO:tensorflow:global_step/sec: 531.661\n",
      "INFO:tensorflow:step = 10201, loss = 55.2547 (0.188 sec)\n",
      "INFO:tensorflow:global_step/sec: 527.905\n",
      "INFO:tensorflow:step = 10301, loss = 26.4427 (0.189 sec)\n",
      "INFO:tensorflow:global_step/sec: 519.324\n",
      "INFO:tensorflow:step = 10401, loss = 25.6333 (0.193 sec)\n",
      "INFO:tensorflow:global_step/sec: 527.794\n",
      "INFO:tensorflow:step = 10501, loss = 94.7604 (0.189 sec)\n",
      "INFO:tensorflow:global_step/sec: 528.491\n",
      "INFO:tensorflow:step = 10601, loss = 34.4838 (0.189 sec)\n",
      "INFO:tensorflow:global_step/sec: 523.686\n",
      "INFO:tensorflow:step = 10701, loss = 38.5975 (0.191 sec)\n",
      "INFO:tensorflow:global_step/sec: 528.935\n",
      "INFO:tensorflow:step = 10801, loss = 35.5486 (0.189 sec)\n",
      "INFO:tensorflow:global_step/sec: 527.635\n",
      "INFO:tensorflow:step = 10901, loss = 47.2571 (0.190 sec)\n",
      "INFO:tensorflow:global_step/sec: 527.588\n",
      "INFO:tensorflow:step = 11001, loss = 33.3912 (0.190 sec)\n",
      "INFO:tensorflow:global_step/sec: 529.591\n",
      "INFO:tensorflow:step = 11101, loss = 66.9846 (0.189 sec)\n",
      "INFO:tensorflow:global_step/sec: 518.689\n",
      "INFO:tensorflow:step = 11201, loss = 64.4498 (0.193 sec)\n",
      "INFO:tensorflow:global_step/sec: 531.154\n",
      "INFO:tensorflow:step = 11301, loss = 13.0156 (0.188 sec)\n",
      "INFO:tensorflow:global_step/sec: 531.892\n",
      "INFO:tensorflow:step = 11401, loss = 18.3303 (0.188 sec)\n",
      "INFO:tensorflow:global_step/sec: 521.782\n",
      "INFO:tensorflow:step = 11501, loss = 32.4927 (0.191 sec)\n",
      "INFO:tensorflow:global_step/sec: 526.158\n",
      "INFO:tensorflow:step = 11601, loss = 28.2976 (0.190 sec)\n",
      "INFO:tensorflow:global_step/sec: 523.547\n",
      "INFO:tensorflow:step = 11701, loss = 15.9403 (0.191 sec)\n",
      "INFO:tensorflow:global_step/sec: 481.485\n",
      "INFO:tensorflow:step = 11801, loss = 60.9055 (0.208 sec)\n",
      "INFO:tensorflow:global_step/sec: 492.919\n",
      "INFO:tensorflow:step = 11901, loss = 34.2423 (0.203 sec)\n",
      "INFO:tensorflow:global_step/sec: 506.519\n",
      "INFO:tensorflow:step = 12001, loss = 102.616 (0.197 sec)\n",
      "INFO:tensorflow:global_step/sec: 529.79\n",
      "INFO:tensorflow:step = 12101, loss = 25.8345 (0.189 sec)\n",
      "INFO:tensorflow:global_step/sec: 531.469\n",
      "INFO:tensorflow:step = 12201, loss = 21.8879 (0.188 sec)\n",
      "INFO:tensorflow:global_step/sec: 521.115\n",
      "INFO:tensorflow:step = 12301, loss = 43.6027 (0.192 sec)\n",
      "INFO:tensorflow:global_step/sec: 527.763\n",
      "INFO:tensorflow:step = 12401, loss = 48.0864 (0.190 sec)\n",
      "INFO:tensorflow:global_step/sec: 519.114\n",
      "INFO:tensorflow:step = 12501, loss = 28.7429 (0.193 sec)\n",
      "INFO:tensorflow:global_step/sec: 529.529\n",
      "INFO:tensorflow:step = 12601, loss = 38.8512 (0.189 sec)\n",
      "INFO:tensorflow:global_step/sec: 531.655\n",
      "INFO:tensorflow:step = 12701, loss = 36.9553 (0.188 sec)\n",
      "INFO:tensorflow:global_step/sec: 528.48\n",
      "INFO:tensorflow:step = 12801, loss = 73.3271 (0.189 sec)\n",
      "INFO:tensorflow:global_step/sec: 532.492\n",
      "INFO:tensorflow:step = 12901, loss = 12.1224 (0.188 sec)\n",
      "INFO:tensorflow:global_step/sec: 522.485\n",
      "INFO:tensorflow:step = 13001, loss = 24.7872 (0.191 sec)\n",
      "INFO:tensorflow:global_step/sec: 521.072\n",
      "INFO:tensorflow:step = 13101, loss = 43.0083 (0.192 sec)\n",
      "INFO:tensorflow:global_step/sec: 525.99\n",
      "INFO:tensorflow:step = 13201, loss = 25.8356 (0.190 sec)\n",
      "INFO:tensorflow:global_step/sec: 529.928\n",
      "INFO:tensorflow:step = 13301, loss = 10.558 (0.189 sec)\n",
      "INFO:tensorflow:global_step/sec: 524.565\n",
      "INFO:tensorflow:step = 13401, loss = 32.6942 (0.191 sec)\n",
      "INFO:tensorflow:global_step/sec: 528.042\n",
      "INFO:tensorflow:step = 13501, loss = 37.4286 (0.189 sec)\n",
      "INFO:tensorflow:global_step/sec: 531.087\n",
      "INFO:tensorflow:step = 13601, loss = 15.1032 (0.188 sec)\n",
      "INFO:tensorflow:global_step/sec: 527.045\n",
      "INFO:tensorflow:step = 13701, loss = 22.5403 (0.190 sec)\n",
      "INFO:tensorflow:global_step/sec: 523.191\n",
      "INFO:tensorflow:step = 13801, loss = 64.1999 (0.191 sec)\n",
      "INFO:tensorflow:global_step/sec: 524.997\n",
      "INFO:tensorflow:step = 13901, loss = 12.766 (0.191 sec)\n",
      "INFO:tensorflow:global_step/sec: 532.124\n",
      "INFO:tensorflow:step = 14001, loss = 125.172 (0.188 sec)\n",
      "INFO:tensorflow:global_step/sec: 522.513\n",
      "INFO:tensorflow:step = 14101, loss = 9.86907 (0.191 sec)\n",
      "INFO:tensorflow:global_step/sec: 519.456\n",
      "INFO:tensorflow:step = 14201, loss = 39.7598 (0.192 sec)\n",
      "INFO:tensorflow:global_step/sec: 528.675\n",
      "INFO:tensorflow:step = 14301, loss = 133.728 (0.189 sec)\n",
      "INFO:tensorflow:global_step/sec: 520.999\n",
      "INFO:tensorflow:step = 14401, loss = 10.3113 (0.192 sec)\n",
      "INFO:tensorflow:global_step/sec: 524.794\n",
      "INFO:tensorflow:step = 14501, loss = 27.086 (0.191 sec)\n",
      "INFO:tensorflow:global_step/sec: 519.111\n",
      "INFO:tensorflow:step = 14601, loss = 9.24009 (0.193 sec)\n",
      "INFO:tensorflow:global_step/sec: 523.514\n",
      "INFO:tensorflow:step = 14701, loss = 25.8648 (0.191 sec)\n",
      "INFO:tensorflow:global_step/sec: 527.029\n",
      "INFO:tensorflow:step = 14801, loss = 66.8879 (0.190 sec)\n",
      "INFO:tensorflow:global_step/sec: 518.546\n",
      "INFO:tensorflow:step = 14901, loss = 48.9191 (0.193 sec)\n",
      "INFO:tensorflow:global_step/sec: 525.815\n",
      "INFO:tensorflow:step = 15001, loss = 173.136 (0.190 sec)\n",
      "INFO:tensorflow:global_step/sec: 514.15\n",
      "INFO:tensorflow:step = 15101, loss = 77.9725 (0.194 sec)\n",
      "INFO:tensorflow:global_step/sec: 535.536\n",
      "INFO:tensorflow:step = 15201, loss = 18.0931 (0.187 sec)\n",
      "INFO:tensorflow:global_step/sec: 520.667\n",
      "INFO:tensorflow:step = 15301, loss = 23.1274 (0.192 sec)\n",
      "INFO:tensorflow:global_step/sec: 513.129\n",
      "INFO:tensorflow:step = 15401, loss = 102.704 (0.195 sec)\n",
      "INFO:tensorflow:global_step/sec: 526.479\n",
      "INFO:tensorflow:step = 15501, loss = 125.908 (0.190 sec)\n",
      "INFO:tensorflow:global_step/sec: 519.926\n",
      "INFO:tensorflow:step = 15601, loss = 22.6634 (0.192 sec)\n",
      "INFO:tensorflow:global_step/sec: 521.105\n",
      "INFO:tensorflow:step = 15701, loss = 74.106 (0.192 sec)\n",
      "INFO:tensorflow:global_step/sec: 529.807\n",
      "INFO:tensorflow:step = 15801, loss = 45.5406 (0.189 sec)\n",
      "INFO:tensorflow:global_step/sec: 529.17\n",
      "INFO:tensorflow:step = 15901, loss = 26.8922 (0.189 sec)\n",
      "INFO:tensorflow:global_step/sec: 523.259\n",
      "INFO:tensorflow:step = 16001, loss = 23.2841 (0.191 sec)\n",
      "INFO:tensorflow:global_step/sec: 516.553\n",
      "INFO:tensorflow:step = 16101, loss = 51.4611 (0.193 sec)\n",
      "INFO:tensorflow:global_step/sec: 527.836\n",
      "INFO:tensorflow:step = 16201, loss = 54.7664 (0.189 sec)\n",
      "INFO:tensorflow:global_step/sec: 527.315\n",
      "INFO:tensorflow:step = 16301, loss = 4.40039 (0.190 sec)\n",
      "INFO:tensorflow:global_step/sec: 528.697\n",
      "INFO:tensorflow:step = 16401, loss = 5.17027 (0.189 sec)\n",
      "INFO:tensorflow:global_step/sec: 523.783\n",
      "INFO:tensorflow:step = 16501, loss = 85.4324 (0.191 sec)\n",
      "INFO:tensorflow:global_step/sec: 525.632\n",
      "INFO:tensorflow:step = 16601, loss = 12.74 (0.190 sec)\n",
      "INFO:tensorflow:global_step/sec: 531.203\n",
      "INFO:tensorflow:step = 16701, loss = 47.663 (0.188 sec)\n",
      "INFO:tensorflow:global_step/sec: 499.134\n",
      "INFO:tensorflow:step = 16801, loss = 35.1876 (0.200 sec)\n",
      "INFO:tensorflow:global_step/sec: 522.963\n",
      "INFO:tensorflow:step = 16901, loss = 30.7714 (0.191 sec)\n",
      "INFO:tensorflow:global_step/sec: 523.709\n",
      "INFO:tensorflow:step = 17001, loss = 28.4149 (0.191 sec)\n",
      "INFO:tensorflow:global_step/sec: 530.819\n",
      "INFO:tensorflow:step = 17101, loss = 115.476 (0.188 sec)\n",
      "INFO:tensorflow:global_step/sec: 512.763\n",
      "INFO:tensorflow:step = 17201, loss = 5.84057 (0.195 sec)\n",
      "INFO:tensorflow:global_step/sec: 522.302\n",
      "INFO:tensorflow:step = 17301, loss = 81.2609 (0.191 sec)\n",
      "INFO:tensorflow:global_step/sec: 522.775\n",
      "INFO:tensorflow:step = 17401, loss = 32.7527 (0.191 sec)\n",
      "INFO:tensorflow:global_step/sec: 532.269\n",
      "INFO:tensorflow:step = 17501, loss = 47.3488 (0.188 sec)\n",
      "INFO:tensorflow:global_step/sec: 526.169\n",
      "INFO:tensorflow:step = 17601, loss = 54.8686 (0.190 sec)\n",
      "INFO:tensorflow:global_step/sec: 528.382\n",
      "INFO:tensorflow:step = 17701, loss = 14.3686 (0.189 sec)\n",
      "INFO:tensorflow:global_step/sec: 522.799\n",
      "INFO:tensorflow:step = 17801, loss = 12.1884 (0.191 sec)\n",
      "INFO:tensorflow:global_step/sec: 533.112\n",
      "INFO:tensorflow:step = 17901, loss = 36.5781 (0.188 sec)\n",
      "INFO:tensorflow:global_step/sec: 525.094\n",
      "INFO:tensorflow:step = 18001, loss = 74.4386 (0.190 sec)\n",
      "INFO:tensorflow:global_step/sec: 520.893\n"
     ]
    },
    {
     "name": "stdout",
     "output_type": "stream",
     "text": [
      "INFO:tensorflow:step = 18101, loss = 51.6682 (0.192 sec)\n",
      "INFO:tensorflow:global_step/sec: 526.757\n",
      "INFO:tensorflow:step = 18201, loss = 87.7326 (0.190 sec)\n",
      "INFO:tensorflow:global_step/sec: 531.412\n",
      "INFO:tensorflow:step = 18301, loss = 18.9086 (0.188 sec)\n",
      "INFO:tensorflow:global_step/sec: 533.313\n",
      "INFO:tensorflow:step = 18401, loss = 80.1188 (0.187 sec)\n",
      "INFO:tensorflow:global_step/sec: 528.044\n",
      "INFO:tensorflow:step = 18501, loss = 18.6385 (0.189 sec)\n",
      "INFO:tensorflow:global_step/sec: 537.843\n",
      "INFO:tensorflow:step = 18601, loss = 38.2518 (0.186 sec)\n",
      "INFO:tensorflow:global_step/sec: 536.783\n",
      "INFO:tensorflow:step = 18701, loss = 20.8078 (0.186 sec)\n",
      "INFO:tensorflow:global_step/sec: 522.019\n",
      "INFO:tensorflow:step = 18801, loss = 33.9932 (0.192 sec)\n",
      "INFO:tensorflow:global_step/sec: 530.49\n",
      "INFO:tensorflow:step = 18901, loss = 1.93565 (0.188 sec)\n",
      "INFO:tensorflow:global_step/sec: 532.555\n",
      "INFO:tensorflow:step = 19001, loss = 24.3371 (0.188 sec)\n",
      "INFO:tensorflow:global_step/sec: 522.488\n",
      "INFO:tensorflow:step = 19101, loss = 18.9404 (0.192 sec)\n",
      "INFO:tensorflow:global_step/sec: 525.295\n",
      "INFO:tensorflow:step = 19201, loss = 28.6914 (0.190 sec)\n",
      "INFO:tensorflow:global_step/sec: 535.711\n",
      "INFO:tensorflow:step = 19301, loss = 18.2713 (0.187 sec)\n",
      "INFO:tensorflow:global_step/sec: 501.097\n",
      "INFO:tensorflow:step = 19401, loss = 22.4922 (0.200 sec)\n",
      "INFO:tensorflow:global_step/sec: 533.777\n",
      "INFO:tensorflow:step = 19501, loss = 42.6906 (0.187 sec)\n",
      "INFO:tensorflow:global_step/sec: 534.223\n",
      "INFO:tensorflow:step = 19601, loss = 32.5993 (0.187 sec)\n",
      "INFO:tensorflow:global_step/sec: 537.605\n",
      "INFO:tensorflow:step = 19701, loss = 17.475 (0.186 sec)\n",
      "INFO:tensorflow:global_step/sec: 524.247\n",
      "INFO:tensorflow:step = 19801, loss = 21.605 (0.191 sec)\n",
      "INFO:tensorflow:global_step/sec: 531.98\n",
      "INFO:tensorflow:step = 19901, loss = 55.7662 (0.188 sec)\n",
      "INFO:tensorflow:Saving checkpoints for 20000 into /var/folders/fx/lb1_syp12qgfwfyn206tc831vpdc5b/T/tmpepbj88th/model.ckpt.\n",
      "INFO:tensorflow:Loss for final step: 20.6498.\n"
     ]
    },
    {
     "data": {
      "text/plain": [
       "<tensorflow.python.estimator.canned.dnn.DNNRegressor at 0x10f18cc18>"
      ]
     },
     "execution_count": 29,
     "metadata": {},
     "output_type": "execute_result"
    }
   ],
   "source": [
    "model.train(input_fn=input_func,steps=10000)"
   ]
  },
  {
   "cell_type": "code",
   "execution_count": 30,
   "metadata": {
    "collapsed": true
   },
   "outputs": [],
   "source": [
    "predict_input_func = tf.estimator.inputs.pandas_input_fn(\n",
    "      x=X_test,\n",
    "      batch_size=10,\n",
    "      num_epochs=1,\n",
    "      shuffle=False)"
   ]
  },
  {
   "cell_type": "code",
   "execution_count": 31,
   "metadata": {
    "collapsed": true
   },
   "outputs": [],
   "source": [
    "pred_gen = model.predict(predict_input_func)"
   ]
  },
  {
   "cell_type": "code",
   "execution_count": 32,
   "metadata": {},
   "outputs": [
    {
     "name": "stdout",
     "output_type": "stream",
     "text": [
      "INFO:tensorflow:Restoring parameters from /var/folders/fx/lb1_syp12qgfwfyn206tc831vpdc5b/T/tmpepbj88th/model.ckpt-20000\n"
     ]
    }
   ],
   "source": [
    "predictions = list(pred_gen)"
   ]
  },
  {
   "cell_type": "code",
   "execution_count": 33,
   "metadata": {
    "collapsed": true
   },
   "outputs": [],
   "source": [
    "final_preds = []\n",
    "for pred in predictions:\n",
    "    final_preds.append(pred['predictions'])"
   ]
  },
  {
   "cell_type": "code",
   "execution_count": 34,
   "metadata": {
    "collapsed": true
   },
   "outputs": [],
   "source": [
    "from sklearn.metrics import mean_squared_error"
   ]
  },
  {
   "cell_type": "code",
   "execution_count": 35,
   "metadata": {},
   "outputs": [
    {
     "data": {
      "text/plain": [
       "3.4063858821324069"
      ]
     },
     "execution_count": 35,
     "metadata": {},
     "output_type": "execute_result"
    }
   ],
   "source": [
    "mean_squared_error(y_test,final_preds)**0.5"
   ]
  },
  {
   "cell_type": "code",
   "execution_count": null,
   "metadata": {
    "collapsed": true
   },
   "outputs": [],
   "source": []
  },
  {
   "cell_type": "code",
   "execution_count": null,
   "metadata": {
    "collapsed": true
   },
   "outputs": [],
   "source": []
  }
 ],
 "metadata": {
  "kernelspec": {
   "display_name": "Python 3",
   "language": "python",
   "name": "python3"
  },
  "language_info": {
   "codemirror_mode": {
    "name": "ipython",
    "version": 3
   },
   "file_extension": ".py",
   "mimetype": "text/x-python",
   "name": "python",
   "nbconvert_exporter": "python",
   "pygments_lexer": "ipython3",
   "version": "3.5.4"
  }
 },
 "nbformat": 4,
 "nbformat_minor": 2
}
