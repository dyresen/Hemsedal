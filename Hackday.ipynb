{
 "cells": [
  {
   "cell_type": "code",
   "execution_count": 1,
   "metadata": {
    "collapsed": true
   },
   "outputs": [],
   "source": [
    "import pandas as pd"
   ]
  },
  {
   "cell_type": "code",
   "execution_count": 2,
   "metadata": {
    "collapsed": true
   },
   "outputs": [],
   "source": [
    "df = pd.read_csv('tinden-jan-2017.csv', sep=\";\")"
   ]
  },
  {
   "cell_type": "code",
   "execution_count": 3,
   "metadata": {},
   "outputs": [
    {
     "data": {
      "text/html": [
       "<div>\n",
       "<style>\n",
       "    .dataframe thead tr:only-child th {\n",
       "        text-align: right;\n",
       "    }\n",
       "\n",
       "    .dataframe thead th {\n",
       "        text-align: left;\n",
       "    }\n",
       "\n",
       "    .dataframe tbody tr th {\n",
       "        vertical-align: top;\n",
       "    }\n",
       "</style>\n",
       "<table border=\"1\" class=\"dataframe\">\n",
       "  <thead>\n",
       "    <tr style=\"text-align: right;\">\n",
       "      <th></th>\n",
       "      <th>Dag</th>\n",
       "      <th>TA-01</th>\n",
       "      <th>TA-07</th>\n",
       "      <th>TA-13</th>\n",
       "      <th>TA-19</th>\n",
       "      <th>TAM</th>\n",
       "      <th>TAX</th>\n",
       "      <th>TAN</th>\n",
       "    </tr>\n",
       "  </thead>\n",
       "  <tbody>\n",
       "    <tr>\n",
       "      <th>count</th>\n",
       "      <td>31.000000</td>\n",
       "      <td>31.000000</td>\n",
       "      <td>31.000000</td>\n",
       "      <td>31.000000</td>\n",
       "      <td>31.000000</td>\n",
       "      <td>31.000000</td>\n",
       "      <td>31.000000</td>\n",
       "      <td>31.000000</td>\n",
       "    </tr>\n",
       "    <tr>\n",
       "      <th>mean</th>\n",
       "      <td>16.000000</td>\n",
       "      <td>-4.883871</td>\n",
       "      <td>-4.909677</td>\n",
       "      <td>-4.264516</td>\n",
       "      <td>-4.977419</td>\n",
       "      <td>-4.761290</td>\n",
       "      <td>-2.193548</td>\n",
       "      <td>-7.464516</td>\n",
       "    </tr>\n",
       "    <tr>\n",
       "      <th>std</th>\n",
       "      <td>9.092121</td>\n",
       "      <td>4.854832</td>\n",
       "      <td>4.353570</td>\n",
       "      <td>4.754054</td>\n",
       "      <td>4.638442</td>\n",
       "      <td>4.290119</td>\n",
       "      <td>4.427711</td>\n",
       "      <td>4.371159</td>\n",
       "    </tr>\n",
       "    <tr>\n",
       "      <th>min</th>\n",
       "      <td>1.000000</td>\n",
       "      <td>-15.100000</td>\n",
       "      <td>-14.500000</td>\n",
       "      <td>-13.400000</td>\n",
       "      <td>-13.400000</td>\n",
       "      <td>-13.100000</td>\n",
       "      <td>-11.300000</td>\n",
       "      <td>-15.400000</td>\n",
       "    </tr>\n",
       "    <tr>\n",
       "      <th>25%</th>\n",
       "      <td>8.500000</td>\n",
       "      <td>-7.850000</td>\n",
       "      <td>-7.500000</td>\n",
       "      <td>-7.500000</td>\n",
       "      <td>-8.300000</td>\n",
       "      <td>-7.300000</td>\n",
       "      <td>-4.950000</td>\n",
       "      <td>-10.600000</td>\n",
       "    </tr>\n",
       "    <tr>\n",
       "      <th>50%</th>\n",
       "      <td>16.000000</td>\n",
       "      <td>-5.200000</td>\n",
       "      <td>-5.200000</td>\n",
       "      <td>-4.300000</td>\n",
       "      <td>-4.900000</td>\n",
       "      <td>-4.800000</td>\n",
       "      <td>-1.600000</td>\n",
       "      <td>-7.600000</td>\n",
       "    </tr>\n",
       "    <tr>\n",
       "      <th>75%</th>\n",
       "      <td>23.500000</td>\n",
       "      <td>-1.000000</td>\n",
       "      <td>-1.550000</td>\n",
       "      <td>-0.150000</td>\n",
       "      <td>-1.200000</td>\n",
       "      <td>-1.200000</td>\n",
       "      <td>1.650000</td>\n",
       "      <td>-4.150000</td>\n",
       "    </tr>\n",
       "    <tr>\n",
       "      <th>max</th>\n",
       "      <td>31.000000</td>\n",
       "      <td>5.000000</td>\n",
       "      <td>2.200000</td>\n",
       "      <td>2.900000</td>\n",
       "      <td>2.800000</td>\n",
       "      <td>1.600000</td>\n",
       "      <td>5.900000</td>\n",
       "      <td>-0.100000</td>\n",
       "    </tr>\n",
       "  </tbody>\n",
       "</table>\n",
       "</div>"
      ],
      "text/plain": [
       "             Dag      TA-01      TA-07      TA-13      TA-19        TAM  \\\n",
       "count  31.000000  31.000000  31.000000  31.000000  31.000000  31.000000   \n",
       "mean   16.000000  -4.883871  -4.909677  -4.264516  -4.977419  -4.761290   \n",
       "std     9.092121   4.854832   4.353570   4.754054   4.638442   4.290119   \n",
       "min     1.000000 -15.100000 -14.500000 -13.400000 -13.400000 -13.100000   \n",
       "25%     8.500000  -7.850000  -7.500000  -7.500000  -8.300000  -7.300000   \n",
       "50%    16.000000  -5.200000  -5.200000  -4.300000  -4.900000  -4.800000   \n",
       "75%    23.500000  -1.000000  -1.550000  -0.150000  -1.200000  -1.200000   \n",
       "max    31.000000   5.000000   2.200000   2.900000   2.800000   1.600000   \n",
       "\n",
       "             TAX        TAN  \n",
       "count  31.000000  31.000000  \n",
       "mean   -2.193548  -7.464516  \n",
       "std     4.427711   4.371159  \n",
       "min   -11.300000 -15.400000  \n",
       "25%    -4.950000 -10.600000  \n",
       "50%    -1.600000  -7.600000  \n",
       "75%     1.650000  -4.150000  \n",
       "max     5.900000  -0.100000  "
      ]
     },
     "execution_count": 3,
     "metadata": {},
     "output_type": "execute_result"
    }
   ],
   "source": [
    "df.describe()"
   ]
  },
  {
   "cell_type": "code",
   "execution_count": 4,
   "metadata": {
    "collapsed": true
   },
   "outputs": [],
   "source": [
    "x_data = df.drop(['TA-13'],axis=1)"
   ]
  },
  {
   "cell_type": "code",
   "execution_count": 5,
   "metadata": {
    "collapsed": true
   },
   "outputs": [],
   "source": [
    "y_val = df['TA-13']"
   ]
  },
  {
   "cell_type": "code",
   "execution_count": 6,
   "metadata": {
    "collapsed": true
   },
   "outputs": [],
   "source": [
    "from sklearn.model_selection import train_test_split"
   ]
  },
  {
   "cell_type": "code",
   "execution_count": 7,
   "metadata": {
    "collapsed": true
   },
   "outputs": [],
   "source": [
    "X_train, X_test, y_train, y_test = train_test_split(x_data,y_val,test_size=0.3,random_state=101)"
   ]
  },
  {
   "cell_type": "code",
   "execution_count": 8,
   "metadata": {
    "collapsed": true
   },
   "outputs": [],
   "source": [
    "from sklearn.preprocessing import MinMaxScaler"
   ]
  },
  {
   "cell_type": "code",
   "execution_count": 9,
   "metadata": {
    "collapsed": true
   },
   "outputs": [],
   "source": [
    "scaler = MinMaxScaler()"
   ]
  },
  {
   "cell_type": "code",
   "execution_count": 10,
   "metadata": {},
   "outputs": [
    {
     "data": {
      "text/plain": [
       "MinMaxScaler(copy=True, feature_range=(0, 1))"
      ]
     },
     "execution_count": 10,
     "metadata": {},
     "output_type": "execute_result"
    }
   ],
   "source": [
    "scaler.fit(X_train)"
   ]
  },
  {
   "cell_type": "code",
   "execution_count": 11,
   "metadata": {
    "collapsed": true
   },
   "outputs": [],
   "source": [
    "X_train = pd.DataFrame(data=scaler.transform(X_train),columns = X_train.columns,index=X_train.index)"
   ]
  },
  {
   "cell_type": "code",
   "execution_count": 12,
   "metadata": {
    "collapsed": true
   },
   "outputs": [],
   "source": [
    "X_test = pd.DataFrame(data=scaler.transform(X_test),columns = X_test.columns,index=X_test.index)"
   ]
  },
  {
   "cell_type": "code",
   "execution_count": 13,
   "metadata": {},
   "outputs": [
    {
     "data": {
      "text/plain": [
       "Index(['Dag', 'TA-01', 'TA-07', 'TA-13', 'TA-19', 'TAM', 'TAX', 'TAN'], dtype='object')"
      ]
     },
     "execution_count": 13,
     "metadata": {},
     "output_type": "execute_result"
    }
   ],
   "source": [
    "df.columns"
   ]
  },
  {
   "cell_type": "code",
   "execution_count": 14,
   "metadata": {
    "collapsed": true
   },
   "outputs": [],
   "source": [
    "import tensorflow as tf"
   ]
  },
  {
   "cell_type": "code",
   "execution_count": 15,
   "metadata": {
    "collapsed": true
   },
   "outputs": [],
   "source": [
    "dag = tf.feature_column.numeric_column('Dag')"
   ]
  },
  {
   "cell_type": "code",
   "execution_count": 16,
   "metadata": {
    "collapsed": true
   },
   "outputs": [],
   "source": [
    "TA1 = tf.feature_column.numeric_column('TA-01')"
   ]
  },
  {
   "cell_type": "code",
   "execution_count": 17,
   "metadata": {
    "collapsed": true
   },
   "outputs": [],
   "source": [
    "TA7 =  tf.feature_column.numeric_column('TA-07')"
   ]
  },
  {
   "cell_type": "code",
   "execution_count": 18,
   "metadata": {
    "collapsed": true
   },
   "outputs": [],
   "source": [
    "TA13 =  tf.feature_column.numeric_column('TA-13')"
   ]
  },
  {
   "cell_type": "code",
   "execution_count": 19,
   "metadata": {
    "collapsed": true
   },
   "outputs": [],
   "source": [
    "TA19 =  tf.feature_column.numeric_column('TA-19')"
   ]
  },
  {
   "cell_type": "code",
   "execution_count": 20,
   "metadata": {
    "collapsed": true
   },
   "outputs": [],
   "source": [
    "TAM =  tf.feature_column.numeric_column('TAM')"
   ]
  },
  {
   "cell_type": "code",
   "execution_count": 21,
   "metadata": {
    "collapsed": true
   },
   "outputs": [],
   "source": [
    "TAX =  tf.feature_column.numeric_column('TAX')"
   ]
  },
  {
   "cell_type": "code",
   "execution_count": 22,
   "metadata": {
    "collapsed": true
   },
   "outputs": [],
   "source": [
    "TAN =  tf.feature_column.numeric_column('TAN')"
   ]
  },
  {
   "cell_type": "code",
   "execution_count": 23,
   "metadata": {
    "collapsed": true
   },
   "outputs": [],
   "source": [
    "feat_cols = [dag,TA1,TA7,TA19,TAM,TAX,TAN]"
   ]
  },
  {
   "cell_type": "code",
   "execution_count": 24,
   "metadata": {
    "collapsed": true
   },
   "outputs": [],
   "source": [
    "input_func = tf.estimator.inputs.pandas_input_fn(x=X_train,y=y_train,batch_size=5,num_epochs=10000,shuffle=True)"
   ]
  },
  {
   "cell_type": "code",
   "execution_count": 25,
   "metadata": {},
   "outputs": [
    {
     "name": "stdout",
     "output_type": "stream",
     "text": [
      "INFO:tensorflow:Using default config.\n",
      "WARNING:tensorflow:Using temporary folder as model directory: /var/folders/fx/lb1_syp12qgfwfyn206tc831vpdc5b/T/tmp0abmnyr3\n",
      "INFO:tensorflow:Using config: {'_keep_checkpoint_max': 5, '_save_checkpoints_secs': 600, '_save_checkpoints_steps': None, '_tf_random_seed': 1, '_keep_checkpoint_every_n_hours': 10000, '_model_dir': '/var/folders/fx/lb1_syp12qgfwfyn206tc831vpdc5b/T/tmp0abmnyr3', '_save_summary_steps': 100, '_log_step_count_steps': 100, '_session_config': None}\n"
     ]
    }
   ],
   "source": [
    "model = tf.estimator.DNNRegressor(hidden_units=[9,9,9],feature_columns=feat_cols)"
   ]
  },
  {
   "cell_type": "code",
   "execution_count": 26,
   "metadata": {},
   "outputs": [
    {
     "name": "stdout",
     "output_type": "stream",
     "text": [
      "INFO:tensorflow:Create CheckpointSaverHook.\n",
      "INFO:tensorflow:Saving checkpoints for 1 into /var/folders/fx/lb1_syp12qgfwfyn206tc831vpdc5b/T/tmp0abmnyr3/model.ckpt.\n",
      "INFO:tensorflow:step = 1, loss = 194.268\n",
      "INFO:tensorflow:global_step/sec: 625.998\n",
      "INFO:tensorflow:step = 101, loss = 3.2408 (0.161 sec)\n",
      "INFO:tensorflow:global_step/sec: 658.314\n",
      "INFO:tensorflow:step = 201, loss = 4.16248 (0.152 sec)\n",
      "INFO:tensorflow:global_step/sec: 656.836\n",
      "INFO:tensorflow:step = 301, loss = 0.316583 (0.152 sec)\n",
      "INFO:tensorflow:global_step/sec: 668.347\n",
      "INFO:tensorflow:step = 401, loss = 1.32433 (0.150 sec)\n",
      "INFO:tensorflow:global_step/sec: 651.712\n",
      "INFO:tensorflow:step = 501, loss = 1.84932 (0.153 sec)\n",
      "INFO:tensorflow:global_step/sec: 665.269\n",
      "INFO:tensorflow:step = 601, loss = 1.18718 (0.150 sec)\n",
      "INFO:tensorflow:global_step/sec: 668.999\n",
      "INFO:tensorflow:step = 701, loss = 1.32076 (0.150 sec)\n",
      "INFO:tensorflow:global_step/sec: 658.367\n",
      "INFO:tensorflow:step = 801, loss = 0.75385 (0.152 sec)\n",
      "INFO:tensorflow:global_step/sec: 670.641\n",
      "INFO:tensorflow:step = 901, loss = 1.70578 (0.149 sec)\n",
      "INFO:tensorflow:global_step/sec: 660.702\n",
      "INFO:tensorflow:step = 1001, loss = 0.044733 (0.151 sec)\n",
      "INFO:tensorflow:global_step/sec: 667.37\n",
      "INFO:tensorflow:step = 1101, loss = 1.03824 (0.150 sec)\n",
      "INFO:tensorflow:global_step/sec: 670.804\n",
      "INFO:tensorflow:step = 1201, loss = 0.595597 (0.149 sec)\n",
      "INFO:tensorflow:global_step/sec: 669.81\n",
      "INFO:tensorflow:step = 1301, loss = 1.2144 (0.149 sec)\n",
      "INFO:tensorflow:global_step/sec: 664.739\n",
      "INFO:tensorflow:step = 1401, loss = 0.392466 (0.150 sec)\n",
      "INFO:tensorflow:global_step/sec: 663.42\n",
      "INFO:tensorflow:step = 1501, loss = 0.457298 (0.151 sec)\n",
      "INFO:tensorflow:global_step/sec: 662.937\n",
      "INFO:tensorflow:step = 1601, loss = 0.897915 (0.151 sec)\n",
      "INFO:tensorflow:global_step/sec: 666.885\n",
      "INFO:tensorflow:step = 1701, loss = 0.0843548 (0.150 sec)\n",
      "INFO:tensorflow:global_step/sec: 643.422\n",
      "INFO:tensorflow:step = 1801, loss = 1.10224 (0.155 sec)\n",
      "INFO:tensorflow:global_step/sec: 668.754\n",
      "INFO:tensorflow:step = 1901, loss = 0.352286 (0.150 sec)\n",
      "INFO:tensorflow:global_step/sec: 615.956\n",
      "INFO:tensorflow:step = 2001, loss = 0.385921 (0.162 sec)\n",
      "INFO:tensorflow:global_step/sec: 636.198\n",
      "INFO:tensorflow:step = 2101, loss = 2.15533 (0.157 sec)\n",
      "INFO:tensorflow:global_step/sec: 538.895\n",
      "INFO:tensorflow:step = 2201, loss = 0.771742 (0.187 sec)\n",
      "INFO:tensorflow:global_step/sec: 512.324\n",
      "INFO:tensorflow:step = 2301, loss = 0.312644 (0.195 sec)\n",
      "INFO:tensorflow:global_step/sec: 585.689\n",
      "INFO:tensorflow:step = 2401, loss = 0.0210448 (0.171 sec)\n",
      "INFO:tensorflow:global_step/sec: 618.777\n",
      "INFO:tensorflow:step = 2501, loss = 1.96397 (0.160 sec)\n",
      "INFO:tensorflow:global_step/sec: 622.317\n",
      "INFO:tensorflow:step = 2601, loss = 0.361814 (0.161 sec)\n",
      "INFO:tensorflow:global_step/sec: 610.623\n",
      "INFO:tensorflow:step = 2701, loss = 0.45021 (0.164 sec)\n",
      "INFO:tensorflow:global_step/sec: 553.48\n",
      "INFO:tensorflow:step = 2801, loss = 0.358123 (0.181 sec)\n",
      "INFO:tensorflow:global_step/sec: 630.446\n",
      "INFO:tensorflow:step = 2901, loss = 0.62378 (0.159 sec)\n",
      "INFO:tensorflow:global_step/sec: 610.512\n",
      "INFO:tensorflow:step = 3001, loss = 1.43899 (0.164 sec)\n",
      "INFO:tensorflow:global_step/sec: 646.212\n",
      "INFO:tensorflow:step = 3101, loss = 0.410008 (0.155 sec)\n",
      "INFO:tensorflow:global_step/sec: 644.637\n",
      "INFO:tensorflow:step = 3201, loss = 1.0395 (0.155 sec)\n",
      "INFO:tensorflow:global_step/sec: 653.249\n",
      "INFO:tensorflow:step = 3301, loss = 0.290732 (0.153 sec)\n",
      "INFO:tensorflow:global_step/sec: 656.633\n",
      "INFO:tensorflow:step = 3401, loss = 0.188878 (0.152 sec)\n",
      "INFO:tensorflow:global_step/sec: 673.16\n",
      "INFO:tensorflow:step = 3501, loss = 0.137182 (0.149 sec)\n",
      "INFO:tensorflow:global_step/sec: 654.125\n",
      "INFO:tensorflow:step = 3601, loss = 0.757885 (0.153 sec)\n",
      "INFO:tensorflow:global_step/sec: 667.556\n",
      "INFO:tensorflow:step = 3701, loss = 0.54043 (0.150 sec)\n",
      "INFO:tensorflow:global_step/sec: 681.399\n",
      "INFO:tensorflow:step = 3801, loss = 0.34666 (0.147 sec)\n",
      "INFO:tensorflow:global_step/sec: 667.859\n",
      "INFO:tensorflow:step = 3901, loss = 0.0546919 (0.150 sec)\n",
      "INFO:tensorflow:global_step/sec: 657.371\n",
      "INFO:tensorflow:step = 4001, loss = 0.090454 (0.152 sec)\n",
      "INFO:tensorflow:global_step/sec: 659.479\n",
      "INFO:tensorflow:step = 4101, loss = 0.310959 (0.152 sec)\n",
      "INFO:tensorflow:global_step/sec: 677.641\n",
      "INFO:tensorflow:step = 4201, loss = 1.19082 (0.148 sec)\n",
      "INFO:tensorflow:global_step/sec: 648.192\n",
      "INFO:tensorflow:step = 4301, loss = 0.261836 (0.154 sec)\n",
      "INFO:tensorflow:global_step/sec: 654.485\n",
      "INFO:tensorflow:step = 4401, loss = 0.0489421 (0.153 sec)\n",
      "INFO:tensorflow:global_step/sec: 622.321\n",
      "INFO:tensorflow:step = 4501, loss = 0.825589 (0.161 sec)\n",
      "INFO:tensorflow:global_step/sec: 614.636\n",
      "INFO:tensorflow:step = 4601, loss = 0.544405 (0.163 sec)\n",
      "INFO:tensorflow:global_step/sec: 600.644\n",
      "INFO:tensorflow:step = 4701, loss = 0.150913 (0.166 sec)\n",
      "INFO:tensorflow:global_step/sec: 657.911\n",
      "INFO:tensorflow:step = 4801, loss = 0.190919 (0.152 sec)\n",
      "INFO:tensorflow:global_step/sec: 654.467\n",
      "INFO:tensorflow:step = 4901, loss = 0.740883 (0.153 sec)\n",
      "INFO:tensorflow:global_step/sec: 528.86\n",
      "INFO:tensorflow:step = 5001, loss = 0.293225 (0.189 sec)\n",
      "INFO:tensorflow:global_step/sec: 609.615\n",
      "INFO:tensorflow:step = 5101, loss = 0.299292 (0.164 sec)\n",
      "INFO:tensorflow:global_step/sec: 650.669\n",
      "INFO:tensorflow:step = 5201, loss = 0.12207 (0.154 sec)\n",
      "INFO:tensorflow:global_step/sec: 538.06\n",
      "INFO:tensorflow:step = 5301, loss = 0.096565 (0.186 sec)\n",
      "INFO:tensorflow:global_step/sec: 668.002\n",
      "INFO:tensorflow:step = 5401, loss = 0.196197 (0.150 sec)\n",
      "INFO:tensorflow:global_step/sec: 668.834\n",
      "INFO:tensorflow:step = 5501, loss = 0.72909 (0.150 sec)\n",
      "INFO:tensorflow:global_step/sec: 663.284\n",
      "INFO:tensorflow:step = 5601, loss = 0.502333 (0.151 sec)\n",
      "INFO:tensorflow:global_step/sec: 672.739\n",
      "INFO:tensorflow:step = 5701, loss = 0.291839 (0.149 sec)\n",
      "INFO:tensorflow:global_step/sec: 656.716\n",
      "INFO:tensorflow:step = 5801, loss = 0.915771 (0.152 sec)\n",
      "INFO:tensorflow:global_step/sec: 660.001\n",
      "INFO:tensorflow:step = 5901, loss = 1.01315 (0.152 sec)\n",
      "INFO:tensorflow:global_step/sec: 648.609\n",
      "INFO:tensorflow:step = 6001, loss = 0.76716 (0.154 sec)\n",
      "INFO:tensorflow:global_step/sec: 588.523\n",
      "INFO:tensorflow:step = 6101, loss = 0.0322237 (0.170 sec)\n",
      "INFO:tensorflow:global_step/sec: 432.038\n",
      "INFO:tensorflow:step = 6201, loss = 0.314182 (0.232 sec)\n",
      "INFO:tensorflow:global_step/sec: 534.439\n",
      "INFO:tensorflow:step = 6301, loss = 0.349448 (0.187 sec)\n",
      "INFO:tensorflow:global_step/sec: 621.037\n",
      "INFO:tensorflow:step = 6401, loss = 0.262212 (0.161 sec)\n",
      "INFO:tensorflow:global_step/sec: 616.143\n",
      "INFO:tensorflow:step = 6501, loss = 0.234563 (0.162 sec)\n",
      "INFO:tensorflow:global_step/sec: 656.702\n",
      "INFO:tensorflow:step = 6601, loss = 0.711467 (0.152 sec)\n",
      "INFO:tensorflow:global_step/sec: 674.942\n",
      "INFO:tensorflow:step = 6701, loss = 0.437065 (0.148 sec)\n",
      "INFO:tensorflow:global_step/sec: 648.504\n",
      "INFO:tensorflow:step = 6801, loss = 0.554755 (0.154 sec)\n",
      "INFO:tensorflow:global_step/sec: 665.296\n",
      "INFO:tensorflow:step = 6901, loss = 1.02289 (0.150 sec)\n",
      "INFO:tensorflow:global_step/sec: 663.262\n",
      "INFO:tensorflow:step = 7001, loss = 0.0744266 (0.151 sec)\n",
      "INFO:tensorflow:global_step/sec: 654.467\n",
      "INFO:tensorflow:step = 7101, loss = 0.34583 (0.153 sec)\n",
      "INFO:tensorflow:global_step/sec: 661.52\n",
      "INFO:tensorflow:step = 7201, loss = 0.503465 (0.151 sec)\n",
      "INFO:tensorflow:global_step/sec: 672.088\n",
      "INFO:tensorflow:step = 7301, loss = 0.937551 (0.149 sec)\n",
      "INFO:tensorflow:global_step/sec: 616.983\n",
      "INFO:tensorflow:step = 7401, loss = 0.403274 (0.162 sec)\n",
      "INFO:tensorflow:global_step/sec: 652.078\n",
      "INFO:tensorflow:step = 7501, loss = 0.687571 (0.153 sec)\n",
      "INFO:tensorflow:global_step/sec: 661.485\n",
      "INFO:tensorflow:step = 7601, loss = 0.668208 (0.151 sec)\n",
      "INFO:tensorflow:global_step/sec: 656.879\n",
      "INFO:tensorflow:step = 7701, loss = 0.330327 (0.152 sec)\n",
      "INFO:tensorflow:global_step/sec: 637.235\n",
      "INFO:tensorflow:step = 7801, loss = 0.116674 (0.157 sec)\n",
      "INFO:tensorflow:global_step/sec: 595.487\n",
      "INFO:tensorflow:step = 7901, loss = 0.0575842 (0.168 sec)\n",
      "INFO:tensorflow:global_step/sec: 499.772\n",
      "INFO:tensorflow:step = 8001, loss = 0.176323 (0.200 sec)\n",
      "INFO:tensorflow:global_step/sec: 631.712\n",
      "INFO:tensorflow:step = 8101, loss = 0.418992 (0.158 sec)\n",
      "INFO:tensorflow:global_step/sec: 678.085\n",
      "INFO:tensorflow:step = 8201, loss = 0.310239 (0.148 sec)\n"
     ]
    },
    {
     "name": "stdout",
     "output_type": "stream",
     "text": [
      "INFO:tensorflow:global_step/sec: 630.375\n",
      "INFO:tensorflow:step = 8301, loss = 0.0767398 (0.159 sec)\n",
      "INFO:tensorflow:global_step/sec: 487.86\n",
      "INFO:tensorflow:step = 8401, loss = 0.157668 (0.205 sec)\n",
      "INFO:tensorflow:global_step/sec: 583.485\n",
      "INFO:tensorflow:step = 8501, loss = 0.0330647 (0.171 sec)\n",
      "INFO:tensorflow:global_step/sec: 597.983\n",
      "INFO:tensorflow:step = 8601, loss = 0.111911 (0.167 sec)\n",
      "INFO:tensorflow:global_step/sec: 649.683\n",
      "INFO:tensorflow:step = 8701, loss = 0.211233 (0.154 sec)\n",
      "INFO:tensorflow:global_step/sec: 616.857\n",
      "INFO:tensorflow:step = 8801, loss = 0.258944 (0.164 sec)\n",
      "INFO:tensorflow:global_step/sec: 392.217\n",
      "INFO:tensorflow:step = 8901, loss = 0.311184 (0.254 sec)\n",
      "INFO:tensorflow:global_step/sec: 600.122\n",
      "INFO:tensorflow:step = 9001, loss = 0.200589 (0.167 sec)\n",
      "INFO:tensorflow:global_step/sec: 423.164\n",
      "INFO:tensorflow:step = 9101, loss = 0.0879953 (0.237 sec)\n",
      "INFO:tensorflow:global_step/sec: 516.919\n",
      "INFO:tensorflow:step = 9201, loss = 0.103135 (0.192 sec)\n",
      "INFO:tensorflow:global_step/sec: 600.951\n",
      "INFO:tensorflow:step = 9301, loss = 0.106828 (0.166 sec)\n",
      "INFO:tensorflow:global_step/sec: 669.699\n",
      "INFO:tensorflow:step = 9401, loss = 0.0214783 (0.149 sec)\n",
      "INFO:tensorflow:global_step/sec: 587.693\n",
      "INFO:tensorflow:step = 9501, loss = 0.745404 (0.170 sec)\n",
      "INFO:tensorflow:global_step/sec: 606.81\n",
      "INFO:tensorflow:step = 9601, loss = 0.205274 (0.165 sec)\n",
      "INFO:tensorflow:global_step/sec: 667.865\n",
      "INFO:tensorflow:step = 9701, loss = 0.0167561 (0.150 sec)\n",
      "INFO:tensorflow:global_step/sec: 661.047\n",
      "INFO:tensorflow:step = 9801, loss = 0.237946 (0.151 sec)\n",
      "INFO:tensorflow:global_step/sec: 672.21\n",
      "INFO:tensorflow:step = 9901, loss = 0.0176168 (0.149 sec)\n",
      "INFO:tensorflow:global_step/sec: 654.523\n",
      "INFO:tensorflow:step = 10001, loss = 0.165528 (0.153 sec)\n",
      "INFO:tensorflow:global_step/sec: 653.176\n",
      "INFO:tensorflow:step = 10101, loss = 0.261138 (0.153 sec)\n",
      "INFO:tensorflow:global_step/sec: 669.43\n",
      "INFO:tensorflow:step = 10201, loss = 0.229262 (0.149 sec)\n",
      "INFO:tensorflow:global_step/sec: 647.643\n",
      "INFO:tensorflow:step = 10301, loss = 0.162125 (0.154 sec)\n",
      "INFO:tensorflow:global_step/sec: 631.102\n",
      "INFO:tensorflow:step = 10401, loss = 0.424493 (0.159 sec)\n",
      "INFO:tensorflow:global_step/sec: 619.134\n",
      "INFO:tensorflow:step = 10501, loss = 0.255871 (0.162 sec)\n",
      "INFO:tensorflow:global_step/sec: 612.404\n",
      "INFO:tensorflow:step = 10601, loss = 0.0632858 (0.163 sec)\n",
      "INFO:tensorflow:global_step/sec: 662.924\n",
      "INFO:tensorflow:step = 10701, loss = 0.126307 (0.151 sec)\n",
      "INFO:tensorflow:global_step/sec: 555.54\n",
      "INFO:tensorflow:step = 10801, loss = 0.077664 (0.180 sec)\n",
      "INFO:tensorflow:global_step/sec: 600.168\n",
      "INFO:tensorflow:step = 10901, loss = 0.0526421 (0.167 sec)\n",
      "INFO:tensorflow:global_step/sec: 660.86\n",
      "INFO:tensorflow:step = 11001, loss = 0.012421 (0.151 sec)\n",
      "INFO:tensorflow:global_step/sec: 611.494\n",
      "INFO:tensorflow:step = 11101, loss = 0.265411 (0.164 sec)\n",
      "INFO:tensorflow:global_step/sec: 679.412\n",
      "INFO:tensorflow:step = 11201, loss = 0.26154 (0.147 sec)\n",
      "INFO:tensorflow:global_step/sec: 669.12\n",
      "INFO:tensorflow:step = 11301, loss = 0.260776 (0.149 sec)\n",
      "INFO:tensorflow:global_step/sec: 607.752\n",
      "INFO:tensorflow:step = 11401, loss = 0.0661666 (0.164 sec)\n",
      "INFO:tensorflow:global_step/sec: 670.344\n",
      "INFO:tensorflow:step = 11501, loss = 0.0146489 (0.149 sec)\n",
      "INFO:tensorflow:global_step/sec: 595.398\n",
      "INFO:tensorflow:step = 11601, loss = 0.185576 (0.168 sec)\n",
      "INFO:tensorflow:global_step/sec: 623.472\n",
      "INFO:tensorflow:step = 11701, loss = 0.182696 (0.160 sec)\n",
      "INFO:tensorflow:global_step/sec: 620.024\n",
      "INFO:tensorflow:step = 11801, loss = 0.138182 (0.161 sec)\n",
      "INFO:tensorflow:global_step/sec: 624.13\n",
      "INFO:tensorflow:step = 11901, loss = 0.0227889 (0.160 sec)\n",
      "INFO:tensorflow:global_step/sec: 618.341\n",
      "INFO:tensorflow:step = 12001, loss = 0.225339 (0.162 sec)\n",
      "INFO:tensorflow:global_step/sec: 598.351\n",
      "INFO:tensorflow:step = 12101, loss = 0.116007 (0.167 sec)\n",
      "INFO:tensorflow:global_step/sec: 652.49\n",
      "INFO:tensorflow:step = 12201, loss = 0.0224496 (0.153 sec)\n",
      "INFO:tensorflow:global_step/sec: 584.051\n",
      "INFO:tensorflow:step = 12301, loss = 0.23578 (0.172 sec)\n",
      "INFO:tensorflow:global_step/sec: 614.183\n",
      "INFO:tensorflow:step = 12401, loss = 0.0380387 (0.162 sec)\n",
      "INFO:tensorflow:global_step/sec: 499.843\n",
      "INFO:tensorflow:step = 12501, loss = 0.0976883 (0.202 sec)\n",
      "INFO:tensorflow:global_step/sec: 443.551\n",
      "INFO:tensorflow:step = 12601, loss = 0.0579655 (0.225 sec)\n",
      "INFO:tensorflow:global_step/sec: 335.719\n",
      "INFO:tensorflow:step = 12701, loss = 0.258168 (0.299 sec)\n",
      "INFO:tensorflow:global_step/sec: 402.449\n",
      "INFO:tensorflow:step = 12801, loss = 0.251583 (0.246 sec)\n",
      "INFO:tensorflow:global_step/sec: 475.45\n",
      "INFO:tensorflow:step = 12901, loss = 0.176881 (0.212 sec)\n",
      "INFO:tensorflow:global_step/sec: 479.038\n",
      "INFO:tensorflow:step = 13001, loss = 0.0153323 (0.208 sec)\n",
      "INFO:tensorflow:global_step/sec: 567.125\n",
      "INFO:tensorflow:step = 13101, loss = 0.0993942 (0.175 sec)\n",
      "INFO:tensorflow:global_step/sec: 636.055\n",
      "INFO:tensorflow:step = 13201, loss = 0.0149914 (0.157 sec)\n",
      "INFO:tensorflow:global_step/sec: 573.079\n",
      "INFO:tensorflow:step = 13301, loss = 0.0625412 (0.174 sec)\n",
      "INFO:tensorflow:global_step/sec: 627.019\n",
      "INFO:tensorflow:step = 13401, loss = 0.00988145 (0.160 sec)\n",
      "INFO:tensorflow:global_step/sec: 618.405\n",
      "INFO:tensorflow:step = 13501, loss = 0.184556 (0.163 sec)\n",
      "INFO:tensorflow:global_step/sec: 589.787\n",
      "INFO:tensorflow:step = 13601, loss = 0.256428 (0.169 sec)\n",
      "INFO:tensorflow:global_step/sec: 621.226\n",
      "INFO:tensorflow:step = 13701, loss = 0.0584707 (0.161 sec)\n",
      "INFO:tensorflow:global_step/sec: 657.54\n",
      "INFO:tensorflow:step = 13801, loss = 0.00793195 (0.152 sec)\n",
      "INFO:tensorflow:global_step/sec: 649.971\n",
      "INFO:tensorflow:step = 13901, loss = 0.206518 (0.154 sec)\n",
      "INFO:tensorflow:global_step/sec: 643.737\n",
      "INFO:tensorflow:step = 14001, loss = 0.633393 (0.155 sec)\n",
      "INFO:tensorflow:global_step/sec: 651.597\n",
      "INFO:tensorflow:step = 14101, loss = 0.248152 (0.153 sec)\n",
      "INFO:tensorflow:global_step/sec: 602.762\n",
      "INFO:tensorflow:step = 14201, loss = 0.0160177 (0.166 sec)\n",
      "INFO:tensorflow:global_step/sec: 545.878\n",
      "INFO:tensorflow:step = 14301, loss = 0.0225166 (0.183 sec)\n",
      "INFO:tensorflow:global_step/sec: 648.479\n",
      "INFO:tensorflow:step = 14401, loss = 0.233518 (0.154 sec)\n",
      "INFO:tensorflow:global_step/sec: 631.907\n",
      "INFO:tensorflow:step = 14501, loss = 0.0159638 (0.159 sec)\n",
      "INFO:tensorflow:global_step/sec: 619.202\n",
      "INFO:tensorflow:step = 14601, loss = 0.089919 (0.163 sec)\n",
      "INFO:tensorflow:global_step/sec: 417.295\n",
      "INFO:tensorflow:step = 14701, loss = 0.277935 (0.238 sec)\n",
      "INFO:tensorflow:global_step/sec: 649.337\n",
      "INFO:tensorflow:step = 14801, loss = 0.157467 (0.154 sec)\n",
      "INFO:tensorflow:global_step/sec: 646.601\n",
      "INFO:tensorflow:step = 14901, loss = 0.0065163 (0.155 sec)\n",
      "INFO:tensorflow:global_step/sec: 623.1\n",
      "INFO:tensorflow:step = 15001, loss = 0.168695 (0.161 sec)\n",
      "INFO:tensorflow:global_step/sec: 537.874\n",
      "INFO:tensorflow:step = 15101, loss = 0.116533 (0.186 sec)\n",
      "INFO:tensorflow:global_step/sec: 521.717\n",
      "INFO:tensorflow:step = 15201, loss = 0.115658 (0.191 sec)\n",
      "INFO:tensorflow:global_step/sec: 515.161\n",
      "INFO:tensorflow:step = 15301, loss = 0.13969 (0.195 sec)\n",
      "INFO:tensorflow:global_step/sec: 551.742\n",
      "INFO:tensorflow:step = 15401, loss = 0.126002 (0.181 sec)\n",
      "INFO:tensorflow:global_step/sec: 620.656\n",
      "INFO:tensorflow:step = 15501, loss = 0.0159651 (0.160 sec)\n",
      "INFO:tensorflow:global_step/sec: 622.89\n",
      "INFO:tensorflow:step = 15601, loss = 0.00863995 (0.161 sec)\n",
      "INFO:tensorflow:global_step/sec: 429.249\n",
      "INFO:tensorflow:step = 15701, loss = 0.177742 (0.235 sec)\n",
      "INFO:tensorflow:global_step/sec: 535.235\n",
      "INFO:tensorflow:step = 15801, loss = 0.205251 (0.185 sec)\n",
      "INFO:tensorflow:global_step/sec: 629.564\n",
      "INFO:tensorflow:step = 15901, loss = 0.0765859 (0.159 sec)\n",
      "INFO:tensorflow:global_step/sec: 662.081\n",
      "INFO:tensorflow:step = 16001, loss = 0.0716837 (0.151 sec)\n",
      "INFO:tensorflow:global_step/sec: 632.443\n",
      "INFO:tensorflow:step = 16101, loss = 0.0163302 (0.158 sec)\n",
      "INFO:tensorflow:global_step/sec: 673.015\n",
      "INFO:tensorflow:step = 16201, loss = 0.0204149 (0.148 sec)\n",
      "INFO:tensorflow:global_step/sec: 670.12\n",
      "INFO:tensorflow:step = 16301, loss = 0.00855502 (0.149 sec)\n",
      "INFO:tensorflow:global_step/sec: 575.219\n",
      "INFO:tensorflow:step = 16401, loss = 0.00980605 (0.174 sec)\n",
      "INFO:tensorflow:global_step/sec: 442.288\n",
      "INFO:tensorflow:step = 16501, loss = 0.00384049 (0.226 sec)\n"
     ]
    },
    {
     "name": "stdout",
     "output_type": "stream",
     "text": [
      "INFO:tensorflow:global_step/sec: 494.751\n",
      "INFO:tensorflow:step = 16601, loss = 0.140986 (0.202 sec)\n",
      "INFO:tensorflow:global_step/sec: 551.761\n",
      "INFO:tensorflow:step = 16701, loss = 0.0572125 (0.181 sec)\n",
      "INFO:tensorflow:global_step/sec: 667.031\n",
      "INFO:tensorflow:step = 16801, loss = 0.0954527 (0.150 sec)\n",
      "INFO:tensorflow:global_step/sec: 674.295\n",
      "INFO:tensorflow:step = 16901, loss = 0.0208714 (0.148 sec)\n",
      "INFO:tensorflow:global_step/sec: 666.388\n",
      "INFO:tensorflow:step = 17001, loss = 0.00970433 (0.150 sec)\n",
      "INFO:tensorflow:global_step/sec: 640.122\n",
      "INFO:tensorflow:step = 17101, loss = 0.0264673 (0.156 sec)\n",
      "INFO:tensorflow:global_step/sec: 662.024\n",
      "INFO:tensorflow:step = 17201, loss = 0.0241985 (0.151 sec)\n",
      "INFO:tensorflow:global_step/sec: 666.992\n",
      "INFO:tensorflow:step = 17301, loss = 0.0502737 (0.150 sec)\n",
      "INFO:tensorflow:global_step/sec: 660.502\n",
      "INFO:tensorflow:step = 17401, loss = 0.0766604 (0.151 sec)\n",
      "INFO:tensorflow:global_step/sec: 663.962\n",
      "INFO:tensorflow:step = 17501, loss = 0.084964 (0.151 sec)\n",
      "INFO:tensorflow:global_step/sec: 601.464\n",
      "INFO:tensorflow:step = 17601, loss = 0.0421146 (0.166 sec)\n",
      "INFO:tensorflow:global_step/sec: 566.238\n",
      "INFO:tensorflow:step = 17701, loss = 0.0311237 (0.177 sec)\n",
      "INFO:tensorflow:global_step/sec: 634.748\n",
      "INFO:tensorflow:step = 17801, loss = 0.0230535 (0.158 sec)\n",
      "INFO:tensorflow:global_step/sec: 664.138\n",
      "INFO:tensorflow:step = 17901, loss = 0.00601584 (0.150 sec)\n",
      "INFO:tensorflow:global_step/sec: 652.618\n",
      "INFO:tensorflow:step = 18001, loss = 0.198175 (0.153 sec)\n",
      "INFO:tensorflow:global_step/sec: 675.977\n",
      "INFO:tensorflow:step = 18101, loss = 0.098772 (0.148 sec)\n",
      "INFO:tensorflow:global_step/sec: 665.154\n",
      "INFO:tensorflow:step = 18201, loss = 0.0161672 (0.150 sec)\n",
      "INFO:tensorflow:global_step/sec: 675.151\n",
      "INFO:tensorflow:step = 18301, loss = 0.0204227 (0.148 sec)\n",
      "INFO:tensorflow:global_step/sec: 643.72\n",
      "INFO:tensorflow:step = 18401, loss = 0.0473292 (0.155 sec)\n",
      "INFO:tensorflow:global_step/sec: 658.302\n",
      "INFO:tensorflow:step = 18501, loss = 0.170455 (0.152 sec)\n",
      "INFO:tensorflow:global_step/sec: 666.583\n",
      "INFO:tensorflow:step = 18601, loss = 0.13478 (0.150 sec)\n",
      "INFO:tensorflow:global_step/sec: 663.236\n",
      "INFO:tensorflow:step = 18701, loss = 0.0353462 (0.151 sec)\n",
      "INFO:tensorflow:global_step/sec: 663.812\n",
      "INFO:tensorflow:step = 18801, loss = 0.0340108 (0.151 sec)\n",
      "INFO:tensorflow:global_step/sec: 665.974\n",
      "INFO:tensorflow:step = 18901, loss = 0.00115516 (0.150 sec)\n",
      "INFO:tensorflow:global_step/sec: 652.397\n",
      "INFO:tensorflow:step = 19001, loss = 0.0937365 (0.153 sec)\n",
      "INFO:tensorflow:global_step/sec: 663.407\n",
      "INFO:tensorflow:step = 19101, loss = 0.117624 (0.151 sec)\n",
      "INFO:tensorflow:global_step/sec: 660.366\n",
      "INFO:tensorflow:step = 19201, loss = 0.0516584 (0.151 sec)\n",
      "INFO:tensorflow:global_step/sec: 672.229\n",
      "INFO:tensorflow:step = 19301, loss = 0.018985 (0.149 sec)\n",
      "INFO:tensorflow:global_step/sec: 659.927\n",
      "INFO:tensorflow:step = 19401, loss = 0.0207201 (0.152 sec)\n",
      "INFO:tensorflow:global_step/sec: 659.473\n",
      "INFO:tensorflow:step = 19501, loss = 0.0274182 (0.152 sec)\n",
      "INFO:tensorflow:global_step/sec: 650.796\n",
      "INFO:tensorflow:step = 19601, loss = 0.0113137 (0.154 sec)\n",
      "INFO:tensorflow:global_step/sec: 637.113\n",
      "INFO:tensorflow:step = 19701, loss = 0.0316683 (0.157 sec)\n",
      "INFO:tensorflow:global_step/sec: 668.798\n",
      "INFO:tensorflow:step = 19801, loss = 0.0205993 (0.149 sec)\n",
      "INFO:tensorflow:global_step/sec: 673.868\n",
      "INFO:tensorflow:step = 19901, loss = 0.159383 (0.148 sec)\n",
      "INFO:tensorflow:global_step/sec: 641.157\n",
      "INFO:tensorflow:step = 20001, loss = 0.0419673 (0.156 sec)\n",
      "INFO:tensorflow:global_step/sec: 670.534\n",
      "INFO:tensorflow:step = 20101, loss = 0.0816224 (0.149 sec)\n",
      "INFO:tensorflow:global_step/sec: 666.733\n",
      "INFO:tensorflow:step = 20201, loss = 0.0251661 (0.150 sec)\n",
      "INFO:tensorflow:global_step/sec: 666.275\n",
      "INFO:tensorflow:step = 20301, loss = 0.0991459 (0.150 sec)\n",
      "INFO:tensorflow:global_step/sec: 653.279\n",
      "INFO:tensorflow:step = 20401, loss = 0.150547 (0.153 sec)\n",
      "INFO:tensorflow:global_step/sec: 655.536\n",
      "INFO:tensorflow:step = 20501, loss = 0.198953 (0.153 sec)\n",
      "INFO:tensorflow:global_step/sec: 664.788\n",
      "INFO:tensorflow:step = 20601, loss = 0.151469 (0.150 sec)\n",
      "INFO:tensorflow:global_step/sec: 664.695\n",
      "INFO:tensorflow:step = 20701, loss = 0.135167 (0.151 sec)\n",
      "INFO:tensorflow:global_step/sec: 670.996\n",
      "INFO:tensorflow:step = 20801, loss = 0.0208826 (0.149 sec)\n",
      "INFO:tensorflow:global_step/sec: 661.976\n",
      "INFO:tensorflow:step = 20901, loss = 0.0363283 (0.151 sec)\n",
      "INFO:tensorflow:global_step/sec: 645.577\n",
      "INFO:tensorflow:step = 21001, loss = 0.0066363 (0.155 sec)\n",
      "INFO:tensorflow:global_step/sec: 673.175\n",
      "INFO:tensorflow:step = 21101, loss = 0.0948444 (0.149 sec)\n",
      "INFO:tensorflow:global_step/sec: 666.404\n",
      "INFO:tensorflow:step = 21201, loss = 0.0889396 (0.150 sec)\n",
      "INFO:tensorflow:global_step/sec: 649.815\n",
      "INFO:tensorflow:step = 21301, loss = 0.131083 (0.154 sec)\n",
      "INFO:tensorflow:global_step/sec: 619.974\n",
      "INFO:tensorflow:step = 21401, loss = 0.232558 (0.161 sec)\n",
      "INFO:tensorflow:global_step/sec: 678.173\n",
      "INFO:tensorflow:step = 21501, loss = 0.00615468 (0.147 sec)\n",
      "INFO:tensorflow:global_step/sec: 647.568\n",
      "INFO:tensorflow:step = 21601, loss = 0.0290057 (0.155 sec)\n",
      "INFO:tensorflow:global_step/sec: 614.288\n",
      "INFO:tensorflow:step = 21701, loss = 0.0964157 (0.163 sec)\n",
      "INFO:tensorflow:global_step/sec: 580.316\n",
      "INFO:tensorflow:step = 21801, loss = 0.0106261 (0.172 sec)\n",
      "INFO:tensorflow:global_step/sec: 605.447\n",
      "INFO:tensorflow:step = 21901, loss = 0.169497 (0.166 sec)\n",
      "INFO:tensorflow:global_step/sec: 658.181\n",
      "INFO:tensorflow:step = 22001, loss = 0.17545 (0.151 sec)\n",
      "INFO:tensorflow:global_step/sec: 622.944\n",
      "INFO:tensorflow:step = 22101, loss = 0.0166371 (0.160 sec)\n",
      "INFO:tensorflow:global_step/sec: 667.512\n",
      "INFO:tensorflow:step = 22201, loss = 0.0426381 (0.150 sec)\n",
      "INFO:tensorflow:global_step/sec: 608.343\n",
      "INFO:tensorflow:step = 22301, loss = 0.130937 (0.164 sec)\n",
      "INFO:tensorflow:global_step/sec: 665.917\n",
      "INFO:tensorflow:step = 22401, loss = 0.0721953 (0.150 sec)\n",
      "INFO:tensorflow:global_step/sec: 668.266\n",
      "INFO:tensorflow:step = 22501, loss = 0.0142735 (0.150 sec)\n",
      "INFO:tensorflow:global_step/sec: 649.844\n",
      "INFO:tensorflow:step = 22601, loss = 0.0424376 (0.154 sec)\n",
      "INFO:tensorflow:global_step/sec: 669.393\n",
      "INFO:tensorflow:step = 22701, loss = 0.0106425 (0.149 sec)\n",
      "INFO:tensorflow:global_step/sec: 662.928\n",
      "INFO:tensorflow:step = 22801, loss = 0.133387 (0.151 sec)\n",
      "INFO:tensorflow:global_step/sec: 649.983\n",
      "INFO:tensorflow:step = 22901, loss = 0.0754401 (0.154 sec)\n",
      "INFO:tensorflow:global_step/sec: 665.38\n",
      "INFO:tensorflow:step = 23001, loss = 0.0284303 (0.150 sec)\n",
      "INFO:tensorflow:global_step/sec: 673.936\n",
      "INFO:tensorflow:step = 23101, loss = 0.0175827 (0.149 sec)\n",
      "INFO:tensorflow:global_step/sec: 661.144\n",
      "INFO:tensorflow:step = 23201, loss = 0.101353 (0.151 sec)\n",
      "INFO:tensorflow:global_step/sec: 653.561\n",
      "INFO:tensorflow:step = 23301, loss = 0.161809 (0.153 sec)\n",
      "INFO:tensorflow:global_step/sec: 664.421\n",
      "INFO:tensorflow:step = 23401, loss = 0.0048 (0.150 sec)\n",
      "INFO:tensorflow:global_step/sec: 658.389\n",
      "INFO:tensorflow:step = 23501, loss = 0.0825042 (0.152 sec)\n",
      "INFO:tensorflow:global_step/sec: 642.442\n",
      "INFO:tensorflow:step = 23601, loss = 0.0056671 (0.155 sec)\n",
      "INFO:tensorflow:global_step/sec: 677.668\n",
      "INFO:tensorflow:step = 23701, loss = 0.0144709 (0.148 sec)\n",
      "INFO:tensorflow:global_step/sec: 668.708\n",
      "INFO:tensorflow:step = 23801, loss = 0.0142136 (0.149 sec)\n",
      "INFO:tensorflow:global_step/sec: 663.042\n",
      "INFO:tensorflow:step = 23901, loss = 0.023063 (0.151 sec)\n",
      "INFO:tensorflow:global_step/sec: 666.836\n",
      "INFO:tensorflow:step = 24001, loss = 0.0631521 (0.150 sec)\n",
      "INFO:tensorflow:global_step/sec: 655.592\n",
      "INFO:tensorflow:step = 24101, loss = 0.0958858 (0.152 sec)\n",
      "INFO:tensorflow:global_step/sec: 664.266\n",
      "INFO:tensorflow:step = 24201, loss = 0.0824859 (0.151 sec)\n",
      "INFO:tensorflow:global_step/sec: 632.683\n",
      "INFO:tensorflow:step = 24301, loss = 0.0821916 (0.158 sec)\n",
      "INFO:tensorflow:global_step/sec: 663.192\n",
      "INFO:tensorflow:step = 24401, loss = 0.0141723 (0.151 sec)\n",
      "INFO:tensorflow:global_step/sec: 654.874\n",
      "INFO:tensorflow:step = 24501, loss = 0.026981 (0.153 sec)\n",
      "INFO:tensorflow:global_step/sec: 640.151\n",
      "INFO:tensorflow:step = 24601, loss = 0.0480589 (0.156 sec)\n",
      "INFO:tensorflow:global_step/sec: 662.77\n",
      "INFO:tensorflow:step = 24701, loss = 0.0254686 (0.151 sec)\n",
      "INFO:tensorflow:global_step/sec: 659.588\n"
     ]
    },
    {
     "name": "stdout",
     "output_type": "stream",
     "text": [
      "INFO:tensorflow:step = 24801, loss = 0.0267323 (0.152 sec)\n",
      "INFO:tensorflow:global_step/sec: 654.274\n",
      "INFO:tensorflow:step = 24901, loss = 0.0747552 (0.153 sec)\n",
      "INFO:tensorflow:Saving checkpoints for 25000 into /var/folders/fx/lb1_syp12qgfwfyn206tc831vpdc5b/T/tmp0abmnyr3/model.ckpt.\n",
      "INFO:tensorflow:Loss for final step: 0.0204945.\n"
     ]
    },
    {
     "data": {
      "text/plain": [
       "<tensorflow.python.estimator.canned.dnn.DNNRegressor at 0x119b3f208>"
      ]
     },
     "execution_count": 26,
     "metadata": {},
     "output_type": "execute_result"
    }
   ],
   "source": [
    "model.train(input_fn=input_func,steps=25000)"
   ]
  },
  {
   "cell_type": "code",
   "execution_count": 27,
   "metadata": {
    "collapsed": true
   },
   "outputs": [],
   "source": [
    "predict_input_func = tf.estimator.inputs.pandas_input_fn(\n",
    "      x=X_test,\n",
    "      batch_size=10,\n",
    "      num_epochs=1,\n",
    "      shuffle=False)"
   ]
  },
  {
   "cell_type": "code",
   "execution_count": 28,
   "metadata": {
    "collapsed": true
   },
   "outputs": [],
   "source": [
    "pred_gen = model.predict(predict_input_func)"
   ]
  },
  {
   "cell_type": "code",
   "execution_count": 47,
   "metadata": {},
   "outputs": [
    {
     "name": "stdout",
     "output_type": "stream",
     "text": [
      "INFO:tensorflow:Restoring parameters from /var/folders/fx/lb1_syp12qgfwfyn206tc831vpdc5b/T/tmp8av5seaf/model.ckpt-25000\n"
     ]
    }
   ],
   "source": [
    "predictions = list(pred_gen)"
   ]
  },
  {
   "cell_type": "code",
   "execution_count": 48,
   "metadata": {
    "collapsed": true
   },
   "outputs": [],
   "source": [
    "final_preds = []\n",
    "for pred in predictions:\n",
    "    final_preds.append(pred['predictions'])"
   ]
  },
  {
   "cell_type": "code",
   "execution_count": 49,
   "metadata": {
    "collapsed": true
   },
   "outputs": [],
   "source": [
    "from sklearn.metrics import mean_squared_error"
   ]
  },
  {
   "cell_type": "code",
   "execution_count": 50,
   "metadata": {},
   "outputs": [
    {
     "data": {
      "text/plain": [
       "1.0846876392467406"
      ]
     },
     "execution_count": 50,
     "metadata": {},
     "output_type": "execute_result"
    }
   ],
   "source": [
    "mean_squared_error(y_test,final_preds)**0.5"
   ]
  },
  {
   "cell_type": "code",
   "execution_count": 53,
   "metadata": {},
   "outputs": [
    {
     "data": {
      "text/plain": [
       "<function sklearn.metrics.regression.mean_squared_error>"
      ]
     },
     "execution_count": 53,
     "metadata": {},
     "output_type": "execute_result"
    }
   ],
   "source": [
    "mean_squared_error"
   ]
  },
  {
   "cell_type": "code",
   "execution_count": 55,
   "metadata": {},
   "outputs": [
    {
     "data": {
      "text/plain": [
       "[array([-0.85113448], dtype=float32),\n",
       " array([-4.83678532], dtype=float32),\n",
       " array([-6.79656744], dtype=float32),\n",
       " array([ 2.22030091], dtype=float32),\n",
       " array([ 1.40666676], dtype=float32),\n",
       " array([-2.06359196], dtype=float32),\n",
       " array([-5.95039797], dtype=float32),\n",
       " array([ 0.38307381], dtype=float32),\n",
       " array([ 2.28649378], dtype=float32),\n",
       " array([-0.4433881], dtype=float32)]"
      ]
     },
     "execution_count": 55,
     "metadata": {},
     "output_type": "execute_result"
    }
   ],
   "source": [
    "final_preds"
   ]
  },
  {
   "cell_type": "code",
   "execution_count": null,
   "metadata": {
    "collapsed": true
   },
   "outputs": [],
   "source": []
  }
 ],
 "metadata": {
  "kernelspec": {
   "display_name": "Python 3",
   "language": "python",
   "name": "python3"
  },
  "language_info": {
   "codemirror_mode": {
    "name": "ipython",
    "version": 3
   },
   "file_extension": ".py",
   "mimetype": "text/x-python",
   "name": "python",
   "nbconvert_exporter": "python",
   "pygments_lexer": "ipython3",
   "version": "3.5.4"
  }
 },
 "nbformat": 4,
 "nbformat_minor": 2
}
